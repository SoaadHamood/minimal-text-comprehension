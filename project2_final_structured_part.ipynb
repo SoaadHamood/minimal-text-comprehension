{
  "cells": [
    {
      "cell_type": "code",
      "source": [
        "# Pin compatible versions\n",
        "!pip -q install --upgrade \"numpy<2.0\" \"scipy==1.11.4\" \"gensim==4.3.2\"\n",
        "\n",
        "# Force a clean restart so SciPy 2.x לא יישאר בזיכרון\n",
        "import os, sys\n",
        "print(\"Restarting runtime to load the pinned versions ...\")\n",
        "os.kill(os.getpid(), 9)\n"
      ],
      "metadata": {
        "id": "dWBhwY3Aar5y"
      },
      "execution_count": null,
      "outputs": []
    },
    {
      "cell_type": "code",
      "source": [
        "import numpy as np, scipy, gensim\n",
        "print(\"NumPy:\", np.__version__, \"| SciPy:\", scipy.__version__, \"| gensim:\", gensim.__version__)\n",
        "\n",
        "import gensim.downloader as api\n",
        "from gensim.models import KeyedVectors\n"
      ],
      "metadata": {
        "colab": {
          "base_uri": "https://localhost:8080/"
        },
        "id": "kZO5-islZz7a",
        "outputId": "f8b7d8ce-0905-450b-d087-b01df983d082"
      },
      "execution_count": 1,
      "outputs": [
        {
          "output_type": "stream",
          "name": "stdout",
          "text": [
            "NumPy: 1.26.4 | SciPy: 1.11.4 | gensim: 4.3.2\n"
          ]
        }
      ]
    },
    {
      "cell_type": "code",
      "source": [
        "# עדיף שיהיה קאש מהורדה קודמת; אם לא, זה יוריד ~1.6GB\n",
        "try:\n",
        "    w2v = api.load(\"word2vec-google-news-300\")\n",
        "except Exception as e:\n",
        "    print(\"gensim downloader failed, trying local binary:\", e)\n",
        "    LOCAL_BIN = \"/content/drive/MyDrive/096222-project/GoogleNews-vectors-negative300.bin.gz\"  # עדכני אם יש\n",
        "    w2v = KeyedVectors.load_word2vec_format(LOCAL_BIN, binary=True)\n",
        "\n",
        "print(\"Word2Vec loaded. vocab size:\", len(w2v))\n"
      ],
      "metadata": {
        "colab": {
          "base_uri": "https://localhost:8080/"
        },
        "id": "S0zS5k3wZUbY",
        "outputId": "4da3b95f-141e-4fe0-ee5d-6dda9ca88add"
      },
      "execution_count": 2,
      "outputs": [
        {
          "output_type": "stream",
          "name": "stdout",
          "text": [
            "[==================================================] 100.0% 1662.8/1662.8MB downloaded\n",
            "Word2Vec loaded. vocab size: 3000000\n"
          ]
        }
      ]
    },
    {
      "cell_type": "markdown",
      "metadata": {
        "id": "J7fT_576DVod"
      },
      "source": [
        "## Task 1.1:\n"
      ]
    },
    {
      "cell_type": "code",
      "execution_count": 4,
      "metadata": {
        "colab": {
          "base_uri": "https://localhost:8080/"
        },
        "id": "Fpttxjj6cpHa",
        "outputId": "ff816db6-0773-47b9-ee7e-ad9cea7aa8b9"
      },
      "outputs": [
        {
          "output_type": "stream",
          "name": "stdout",
          "text": [
            "--2025-08-13 13:03:43--  https://drive.usercontent.google.com/download?id=1xZaorRH-xxjfochvSesAhOTUg82_Xq56&export=download&authuser=0&confirm=t&uuid=efeb9ce5-a5c5-453b-938d-6c0ece963f3c&at=APZUnTV18b5mSao0MQ2JbtpefTxr%3A1719665236172\n",
            "Resolving drive.usercontent.google.com (drive.usercontent.google.com)... 142.250.125.132, 2607:f8b0:4001:c2f::84\n",
            "Connecting to drive.usercontent.google.com (drive.usercontent.google.com)|142.250.125.132|:443... connected.\n",
            "HTTP request sent, awaiting response... 200 OK\n",
            "Length: 97708666 (93M) [application/octet-stream]\n",
            "Saving to: ‘files.zip’\n",
            "\n",
            "files.zip           100%[===================>]  93.18M  78.2MB/s    in 1.2s    \n",
            "\n",
            "2025-08-13 13:03:45 (78.2 MB/s) - ‘files.zip’ saved [97708666/97708666]\n",
            "\n",
            "Archive:  files.zip\n",
            "replace stimuli_180concepts.txt? [y]es, [n]o, [A]ll, [N]one, [r]ename: "
          ]
        }
      ],
      "source": [
        "!wget --header=\"Host: drive.usercontent.google.com\" --header=\"Accept: text/html,application/xhtml+xml,application/xml;q=0.9,image/avif,image/webp,image/apng,*/*;q=0.8,application/signed-exchange;v=b3;q=0.7\" --header=\"Accept-Language: en-US,en;q=0.9,he;q=0.8\" --header=\"Cookie: HSID=AHJfxja1o67aaDDKP; SSID=AcFaYUEeiC88MwrF9; APISID=-FXvHmBvJ828Jrpq/AaIp_RI6gKwBAA-zy; SAPISID=_psqReiv0O2WdiVv/AhLpZThJtVNAPgAJP; __Secure-1PAPISID=_psqReiv0O2WdiVv/AhLpZThJtVNAPgAJP; __Secure-3PAPISID=_psqReiv0O2WdiVv/AhLpZThJtVNAPgAJP; S=billing-ui-v3=pX9aAWC8SzxQZfQvQ-0SbCFRz65PPkVY:billing-ui-v3-efe=pX9aAWC8SzxQZfQvQ-0SbCFRz65PPkVY:maestro=dsv3G-owxPD6uTATLH0lBQZNadhFo6ZKJiuB9usoQVU; __Secure-BUCKET=CPgG; SID=g.a000kggtmVDh8D92rqHe5fiG-bMoXQw7Ld8Tf_C8qHhSE2ZoFUyx_uObP_F4bCqI8I561ccGMwACgYKAWESARQSFQHGX2Mi5DnhBiJ2gjjbMSP0XJbU5BoVAUF8yKrlBjWMdNOfGnmA7TZzmbWD0076; __Secure-1PSID=g.a000kggtmVDh8D92rqHe5fiG-bMoXQw7Ld8Tf_C8qHhSE2ZoFUyx2BFINS8lXhFUyAFwuvl8CQACgYKAW4SARQSFQHGX2MiWd6bHkI0JN89-1dFZUbS2hoVAUF8yKpc-H3AD8N6tj-dmFG21SeE0076; __Secure-3PSID=g.a000kggtmVDh8D92rqHe5fiG-bMoXQw7Ld8Tf_C8qHhSE2ZoFUyxJl_TGsCsjeiVN72q3lSCWQACgYKASASARQSFQHGX2MiULluXa7aABDwxgCWjB6IyhoVAUF8yKoy_HHYLCqIFMwNjx-GwYWe0076; __Secure-ENID=20.SE=jyM_w2hA8DW6FvPOh9wudde93a0A9P41Epzo098LV_LyU79-VVcJ9K-vNLrhCLuVzi69CyV4RxlSls8AAT9J8odwIXi_ISVn8Z1U1DH52BC3YiwOwO9LKUsBesCbGx2D6u1XwZ5GIP_PZMo1tkLLJq2VCtcxRP9OtC_QgHNbAD4eyc1TTu1C8XbZLFTOIgb0k9IfM2bMBXeha6t3sJysARZWpDIzs3I8wWZ5JtABB253grtjQyCnxyy9MUgTcYAVaoEGwgVHV4V4lSY6gydFkO2gYxl7JqYloqCq74HahGK54TBlsGZIOTM_KvFAsIidcrPaVOBpH6IGQTPChxy3Tr-GLK7VpBiQ8JW7V0xC8XTN1crEaaZnGFQ6MrjDv8f3hCY0Kg; AEC=AQTF6HwEtUB747fVHMzvOWJV9pmRoGs8Ix8FJ1HTrxbE9NY1dtyro2AvNQ; NID=515=Wdt0NWZqVSh3TtdIfjXCGTCCkj7jaJjt-lkOL3hLD_hPSSMyGxKkVthECwGGFbbxmvfM2iKZ1SkPGDVgLwjghAOrV9Ya7iEJJ0eSXZSfszc0WxRXm3Jy6LxqPEZLmY8v3AIkMX-o8KE5ZRXGEzgv_s9pfgS8bmeiIGT13Iiyw9tPzRZDChGijNbZ0Mp1oF-4YKikOZCyo8Km9wXOgLAC9dbeIqAlTdER97cQ7B5GajyRLH_bFrg0lCVN4tyZEycjihHOu6Eq_V88rswgV7uvzemJ_yk4WbbIWJVm9NCO4tWdDQG8NY3EY57xAJbmIhu260jDftYwzjCnpqJ8C1iCm-FjboF6xJwKJEtLkCXagIcSWxfPGqRWIn5KY72ogAMZTlUZ5RE5F8bH4sFgkt5pW_AalY5mxYPOfZgF-9hcJYsF71rMOic6mqSfvR8iNo-k6_SZ-4o5WkYxbwdLgiaIOiCJHkhIGBoXsm5hh5BHDqlk5ERGnFn5zpqOguNLJFjXT3nhaP1g_a2fFvd0bmZw2A9Y6tBNAC7CbDOmSHSmYmLag0qVcqu286CZh5svuhdM-QPcSCt5u0kPgfWN3KBha0G9L9qCiDIwntvnlVNoUYLBM4je1bhGjO9M2tdH_vteLo4vjm9Cq-4I2A; __Secure-1PSIDTS=sidts-CjIB3EgAEi6AJoaJlu_IOdqmparuSFUne3RqD5YKK5hcqKjRlc0CTp9lSpyH2OoVVoqmlxAA; __Secure-3PSIDTS=sidts-CjIB3EgAEi6AJoaJlu_IOdqmparuSFUne3RqD5YKK5hcqKjRlc0CTp9lSpyH2OoVVoqmlxAA; SIDCC=AKEyXzW7IJ8miV8hX_pqzqqPW7--eMWuWfausspLBoDPlfZDCRZDED56ohpancLYOBPizfUzi1aM; __Secure-1PSIDCC=AKEyXzVGnmSuG07J22njRVFPQ_sk88MgnqtYxJd-M0_9Pz3jdh4GpGPhPOqCMrayTU9SJTW3n54; __Secure-3PSIDCC=AKEyXzVScJYbKdtIImPYKpTRkExsc5UhC5n9Rkk8wNFlMZNW3_xkvWlimAXWaZ4T7kTcJy5AE4I\" --header=\"Connection: keep-alive\" \"https://drive.usercontent.google.com/download?id=1xZaorRH-xxjfochvSesAhOTUg82_Xq56&export=download&authuser=0&confirm=t&uuid=efeb9ce5-a5c5-453b-938d-6c0ece963f3c&at=APZUnTV18b5mSao0MQ2JbtpefTxr%3A1719665236172\" -c -O 'files.zip'\n",
        "!unzip files.zip\n",
        "!rm files.zip"
      ]
    },
    {
      "cell_type": "code",
      "execution_count": 3,
      "metadata": {
        "colab": {
          "base_uri": "https://localhost:8080/"
        },
        "id": "gEbj3oPxa3Qw",
        "outputId": "ff4b8bb6-1894-4639-e4a3-c61ae3b451c1"
      },
      "outputs": [
        {
          "output_type": "stream",
          "name": "stdout",
          "text": [
            "Mounted at /content/drive\n"
          ]
        }
      ],
      "source": [
        "import os, time\n",
        "import numpy as np\n",
        "import matplotlib.pyplot as plt\n",
        "from sklearn.model_selection import KFold\n",
        "from google.colab import drive\n",
        "\n",
        "# Mount (once)\n",
        "drive.mount('/content/drive', force_remount=True)\n",
        "BASE_DIR = \"/content/drive/MyDrive/096222-project\"   # עדכני לשביל שלך\n",
        "os.makedirs(BASE_DIR, exist_ok=True)\n",
        "\n",
        "# Utils from course\n",
        "from learn_decoder import *  # read_matrix, learn_decoder\n"
      ]
    },
    {
      "cell_type": "code",
      "execution_count": 4,
      "metadata": {
        "id": "S8WOEsUIc64H",
        "colab": {
          "base_uri": "https://localhost:8080/"
        },
        "outputId": "83ee2a8a-9e6e-4ab8-81c2-f0e6ece45c17"
      },
      "outputs": [
        {
          "output_type": "stream",
          "name": "stdout",
          "text": [
            "fMRI: (180, 170712) GloVe: (180, 300) concepts: (180,)\n"
          ]
        }
      ],
      "source": [
        "X = read_matrix(\"imaging_data.csv\", sep=\",\").astype(np.float32)\n",
        "Y_glove = read_matrix(\"vectors_180concepts.GV42B300.txt\", sep=\" \").astype(np.float32)\n",
        "concepts = np.genfromtxt(\"stimuli_180concepts.txt\", dtype=\"U\")\n",
        "\n",
        "print(\"fMRI:\", X.shape, \"GloVe:\", Y_glove.shape, \"concepts:\", concepts.shape)\n",
        "\n",
        "# בדיקות קצרות\n",
        "assert X.shape[0] == Y_glove.shape[0] == concepts.shape[0] == 180, \"rows must align (N=180)\""
      ]
    },
    {
      "cell_type": "code",
      "source": [
        "import numpy as np\n",
        "import gensim.downloader as api\n",
        "\n",
        "w2v = api.load(\"word2vec-google-news-300\")\n",
        "\n",
        "# 1) מסכה מי-במודל / מי-OOV\n",
        "keep = np.array([w.lower() in w2v for w in concepts], dtype=bool)\n",
        "missing = list(concepts[~keep])\n",
        "print(f\"OOV in Word2Vec: {len(missing)} → {sorted(missing)[:10]} ...\")\n",
        "\n",
        "# 2) בניית מטריצות מסוננות – ALL aligned\n",
        "Y_w2v  = np.vstack([w2v[w.lower()] for w in concepts[keep]]).astype(np.float32)\n",
        "X_sub  = X[keep]\n",
        "Yg_sub = Y_glove[keep]\n",
        "concepts_sub = concepts[keep]\n",
        "\n",
        "print(\"Filtered:\", X_sub.shape, Yg_sub.shape, Y_w2v.shape)\n",
        "assert X_sub.shape[0] == Y_w2v.shape[0] == Yg_sub.shape[0], \"rows must match after filtering\"\n"
      ],
      "metadata": {
        "colab": {
          "base_uri": "https://localhost:8080/"
        },
        "id": "bgCp9vVGYAFR",
        "outputId": "2a39b3ef-8dfd-4052-abc6-ac95e8b43ebf"
      },
      "execution_count": 5,
      "outputs": [
        {
          "output_type": "stream",
          "name": "stdout",
          "text": [
            "OOV in Word2Vec: 1 → ['argumentatively'] ...\n",
            "Filtered: (179, 170712) (179, 300) (179, 300)\n"
          ]
        }
      ]
    },
    {
      "cell_type": "code",
      "source": [
        "import numpy as np\n",
        "\n",
        "def mean_rank(decoded_vectors, true_vectors, true_indices):\n",
        "    # Normalize the \"true\" matrix once\n",
        "    tv = true_vectors / (np.linalg.norm(true_vectors, axis=1, keepdims=True) + 1e-8)\n",
        "    ranks = []\n",
        "    for dec, j in zip(decoded_vectors, true_indices):\n",
        "        d = dec / (np.linalg.norm(dec) + 1e-8)\n",
        "        sims = tv @ d\n",
        "        r = 1 + np.sum(sims > sims[j] + 1e-12)  # lower is better\n",
        "        ranks.append(int(r))\n",
        "    return float(np.mean(ranks)), ranks\n"
      ],
      "metadata": {
        "id": "pyarLTo-YHMH"
      },
      "execution_count": 9,
      "outputs": []
    },
    {
      "cell_type": "code",
      "source": [
        "# === Cross-validated decoding routine (shared for both embeddings) ===\n",
        "def cv_decode_mean_rank(X_fmri, Y_embed, n_splits=18, seed=42):\n",
        "    kf = KFold(n_splits=n_splits, shuffle=True, random_state=seed)\n",
        "    fold_means = []\n",
        "    for fold, (tr, te) in enumerate(kf.split(X_fmri), 1):\n",
        "        W = learn_decoder(X_fmri[tr], Y_embed[tr])          # linear decoder\n",
        "        Yhat = X_fmri[te] @ W\n",
        "        mean_r, _ = mean_rank(Yhat, Y_embed, true_indices=te)\n",
        "        fold_means.append(mean_r)\n",
        "        print(f\"Fold {fold:02d}: mean rank = {mean_r:.1f}\")\n",
        "    return np.array(fold_means)\n"
      ],
      "metadata": {
        "id": "sOzSxeESYMfs"
      },
      "execution_count": 10,
      "outputs": []
    },
    {
      "cell_type": "code",
      "source": [
        "# === Run CV for W2V and GloVe on the same subset ===\n",
        "print(\"\\nCV on Word2Vec …\")\n",
        "w2v_ranks = cv_decode_mean_rank(X_sub, Y_w2v,  n_splits=18, seed=42)\n",
        "\n",
        "print(\"\\nCV on GloVe …\")\n",
        "glove_ranks = cv_decode_mean_rank(X_sub, Yg_sub, n_splits=18, seed=42)\n",
        "\n",
        "print(\"\\nOverall mean rank — Word2Vec:\", float(w2v_ranks.mean()))\n",
        "print(\"Overall mean rank — GloVe   :\", float(glove_ranks.mean()))\n"
      ],
      "metadata": {
        "colab": {
          "base_uri": "https://localhost:8080/"
        },
        "id": "CaYu5freYO1e",
        "outputId": "17a0c7fe-87e0-434b-c89a-c7bdce49d796"
      },
      "execution_count": 11,
      "outputs": [
        {
          "output_type": "stream",
          "name": "stdout",
          "text": [
            "\n",
            "CV on Word2Vec …\n",
            "Fold 01: mean rank = 54.2\n",
            "Fold 02: mean rank = 43.7\n",
            "Fold 03: mean rank = 38.7\n",
            "Fold 04: mean rank = 60.3\n",
            "Fold 05: mean rank = 75.3\n",
            "Fold 06: mean rank = 67.9\n",
            "Fold 07: mean rank = 57.5\n",
            "Fold 08: mean rank = 77.6\n",
            "Fold 09: mean rank = 68.8\n",
            "Fold 10: mean rank = 66.2\n",
            "Fold 11: mean rank = 63.6\n",
            "Fold 12: mean rank = 48.8\n",
            "Fold 13: mean rank = 62.5\n",
            "Fold 14: mean rank = 45.2\n",
            "Fold 15: mean rank = 60.8\n",
            "Fold 16: mean rank = 51.6\n",
            "Fold 17: mean rank = 73.2\n",
            "Fold 18: mean rank = 59.8\n",
            "\n",
            "CV on GloVe …\n",
            "Fold 01: mean rank = 59.3\n",
            "Fold 02: mean rank = 70.8\n",
            "Fold 03: mean rank = 58.4\n",
            "Fold 04: mean rank = 70.6\n",
            "Fold 05: mean rank = 55.1\n",
            "Fold 06: mean rank = 48.1\n",
            "Fold 07: mean rank = 57.6\n",
            "Fold 08: mean rank = 89.5\n",
            "Fold 09: mean rank = 53.4\n",
            "Fold 10: mean rank = 61.7\n",
            "Fold 11: mean rank = 70.9\n",
            "Fold 12: mean rank = 66.2\n",
            "Fold 13: mean rank = 59.4\n",
            "Fold 14: mean rank = 47.9\n",
            "Fold 15: mean rank = 67.1\n",
            "Fold 16: mean rank = 59.7\n",
            "Fold 17: mean rank = 69.0\n",
            "Fold 18: mean rank = 46.2\n",
            "\n",
            "Overall mean rank — Word2Vec: 59.759876543209884\n",
            "Overall mean rank — GloVe   : 61.717901234567904\n"
          ]
        }
      ]
    },
    {
      "cell_type": "code",
      "source": [
        "# === Statistics & plot ===\n",
        "from scipy.stats import wilcoxon\n",
        "stat, p = wilcoxon(w2v_ranks, glove_ranks, zero_method='wilcox', alternative='less')\n",
        "print(f\"Wilcoxon signed-rank (W2V<GloVe?): p={p:.4g}\")\n",
        "\n",
        "folds = np.arange(1, 19)\n",
        "plt.figure(figsize=(12,6))\n",
        "plt.plot(folds, glove_ranks, 'o--', label='GloVe',    color='orange')\n",
        "plt.plot(folds, w2v_ranks,   's-',  label='Word2Vec', color='blue')\n",
        "plt.xlabel(\"Fold\"); plt.ylabel(\"Average Rank (lower is better)\")\n",
        "plt.title(\"Decoding Performance: GloVe vs Word2Vec (18 folds, same subset)\")\n",
        "plt.grid(True); plt.legend(); plt.xticks(folds)\n",
        "plt.savefig(os.path.join(BASE_DIR, \"w2v_vs_glove_decoding.png\"), dpi=150)\n",
        "plt.show()\n"
      ],
      "metadata": {
        "colab": {
          "base_uri": "https://localhost:8080/",
          "height": 582
        },
        "id": "_oY45QFFYRBt",
        "outputId": "7ee3c7e4-e68c-44fc-d849-ed82a0ff4e64"
      },
      "execution_count": 12,
      "outputs": [
        {
          "output_type": "stream",
          "name": "stdout",
          "text": [
            "Wilcoxon signed-rank (W2V<GloVe?): p=0.2613\n"
          ]
        },
        {
          "output_type": "display_data",
          "data": {
            "text/plain": [
              "<Figure size 1200x600 with 1 Axes>"
            ],
            "image/png": "[encoded data removed]"
          },
          "metadata": {}
        }
      ]
    },
    {
      "cell_type": "markdown",
      "source": [
        "*******************************************************************************************************************************************************************************************************************************************************************************************************************************************"
      ],
      "metadata": {
        "id": "i1_tGew1YCS4"
      }
    },
    {
      "cell_type": "markdown",
      "metadata": {
        "id": "g7JXfrlJZzMe"
      },
      "source": [
        "## Task 1.3:\n"
      ]
    },
    {
      "cell_type": "code",
      "source": [
        "import os, pickle\n",
        "import numpy as np\n",
        "import pandas as pd\n",
        "\n",
        "from sklearn.pipeline import make_pipeline\n",
        "from sklearn.preprocessing import StandardScaler\n",
        "from sklearn.linear_model import Ridge\n",
        "\n",
        "# --- Rank metric (lower is better) ---\n",
        "def mean_rank(pred, cand):\n",
        "    \"\"\"\n",
        "    pred: (N, D) predicted semantic vectors\n",
        "    cand: (N, D) candidate vectors (row i is the true target for pred i)\n",
        "    Returns: per-sample ranks (int), mean rank (float)\n",
        "    \"\"\"\n",
        "    # cosine similarities, fully vectorized\n",
        "    pred_n = pred / (np.linalg.norm(pred, axis=1, keepdims=True) + 1e-8)\n",
        "    cand_n = cand / (np.linalg.norm(cand, axis=1, keepdims=True) + 1e-8)\n",
        "    S = pred_n @ cand_n.T                       # (N x N)\n",
        "    diag = np.diag(S)                           # similarity to the true target\n",
        "    ranks = 1 + np.sum(S > (diag[:, None] + 1e-12), axis=1)  # 1-based rank\n",
        "    return ranks.astype(int), float(np.mean(ranks))\n",
        "\n",
        "def chance_mean_rank(n):  # expected rank under random guessing\n",
        "    return (n + 1) / 2.0\n"
      ],
      "metadata": {
        "id": "sw9vtmkzuUE6"
      },
      "execution_count": 13,
      "outputs": []
    },
    {
      "cell_type": "code",
      "source": [
        "# Adjust path to your Drive folder\n",
        "DATA_DIR = \"/content/drive/My Drive/Project 2: Word Embeddings and the Brain/Structured Task (sentence decoding)\"\n",
        "\n",
        "# EXP1 (concepts 180×V) for training the decoder\n",
        "exp1_path = os.path.join(DATA_DIR, \"neuralData_for_EXP1.csv\")\n",
        "# file format: first row/col are headers -> skip them\n",
        "X_exp1 = pd.read_csv(exp1_path, header=None, skiprows=1).values[:, 1:].astype(np.float32)  # (180, 185866)\n",
        "\n",
        "# GloVe for 180 concepts (targets for training)\n",
        "Y_exp1 = pd.read_csv(\"/content/vectors_180concepts.GV42B300.txt\", sep=r\"\\s+\", header=None).values.astype(np.float32)  # (180, 300)\n",
        "\n",
        "print(\"EXP1 shapes  | fMRI:\", X_exp1.shape, \"GloVe:\", Y_exp1.shape)\n",
        "\n",
        "# EXP2 (sentences 384×V) + GloVe\n",
        "with open(os.path.join(DATA_DIR, \"EXP2.pkl\"), \"rb\") as f:\n",
        "    exp2 = pickle.load(f)\n",
        "X_a2 = exp2[\"Fmridata\"].astype(np.float32)  # (384, V)\n",
        "Y_a2 = pd.read_csv(os.path.join(DATA_DIR, \"vectors_384sentences.GV42B300.average.txt\"),\n",
        "                   sep=r\"\\s+\", header=None).values.astype(np.float32)  # (384, 300)\n",
        "\n",
        "# EXP3 (sentences 243×V) + GloVe\n",
        "with open(os.path.join(DATA_DIR, \"EXP3.pkl\"), \"rb\") as f:\n",
        "    exp3 = pickle.load(f)\n",
        "X_a3 = exp3[\"Fmridata\"].astype(np.float32)  # (243, V)\n",
        "Y_a3 = pd.read_csv(os.path.join(DATA_DIR, \"vectors_243sentences.GV42B300.average.txt\"),\n",
        "                   sep=r\"\\s+\", header=None).values.astype(np.float32)  # (243, 300)\n",
        "\n",
        "print(\"EXP2 shapes  | fMRI:\", X_a2.shape, \"GloVe:\", Y_a2.shape)\n",
        "print(\"EXP3 shapes  | fMRI:\", X_a3.shape, \"GloVe:\", Y_a3.shape)\n",
        "\n",
        "# Quick sanity:\n",
        "assert X_exp1.shape[0] == Y_exp1.shape[0] == 180\n",
        "assert X_a2.shape[0]  == Y_a2.shape[0]   == 384\n",
        "assert X_a3.shape[0]  == Y_a3.shape[0]   == 243\n",
        "assert X_exp1.shape[1] == X_a2.shape[1] == X_a3.shape[1], \"V must match across experiments\"\n"
      ],
      "metadata": {
        "colab": {
          "base_uri": "https://localhost:8080/"
        },
        "id": "0yBJdEi4uT8p",
        "outputId": "ea3ec612-ed70-416b-f724-9b5b62617031"
      },
      "execution_count": 14,
      "outputs": [
        {
          "output_type": "stream",
          "name": "stdout",
          "text": [
            "EXP1 shapes  | fMRI: (180, 185866) GloVe: (180, 300)\n",
            "EXP2 shapes  | fMRI: (384, 185866) GloVe: (384, 300)\n",
            "EXP3 shapes  | fMRI: (243, 185866) GloVe: (243, 300)\n"
          ]
        }
      ]
    },
    {
      "cell_type": "code",
      "source": [
        "# StandardScaler (per voxel) + Ridge; alpha can be tuned if you want\n",
        "decoder = make_pipeline(\n",
        "    StandardScaler(with_mean=True, with_std=True),\n",
        "    Ridge(alpha=10.0, fit_intercept=True, random_state=42)\n",
        ")\n",
        "decoder.fit(X_exp1, Y_exp1)\n",
        "\n",
        "# Save the whole model (not just the weight matrix)\n",
        "DECODER_PATH = \"/content/glove_decoder_exp1.pkl\"\n",
        "with open(DECODER_PATH, \"wb\") as f:\n",
        "    pickle.dump(decoder, f)\n",
        "print(\"Decoder saved to:\", DECODER_PATH)\n"
      ],
      "metadata": {
        "colab": {
          "base_uri": "https://localhost:8080/"
        },
        "id": "lGHdc4_luTyT",
        "outputId": "49243b10-f075-4b3c-890c-16a0fac37e57"
      },
      "execution_count": 15,
      "outputs": [
        {
          "output_type": "stream",
          "name": "stdout",
          "text": [
            "Decoder saved to: /content/glove_decoder_exp1.pkl\n"
          ]
        }
      ]
    },
    {
      "cell_type": "code",
      "source": [
        "with open(DECODER_PATH, \"rb\") as f:\n",
        "    decoder = pickle.load(f)\n",
        "\n",
        "# Predict semantic vectors (includes scaling & intercept)\n",
        "Yhat_a2 = decoder.predict(X_a2)  # (384, 300)\n",
        "Yhat_a3 = decoder.predict(X_a3)  # (243, 300)\n",
        "\n",
        "ranks_a2, mean_a2 = mean_rank(Yhat_a2, Y_a2)\n",
        "ranks_a3, mean_a3 = mean_rank(Yhat_a3, Y_a3)\n",
        "\n",
        "print(f\"A2  mean rank: {mean_a2:.2f}   | chance ≈ {chance_mean_rank(len(ranks_a2)):.1f}\")\n",
        "print(f\"A3  mean rank: {mean_a3:.2f}   | chance ≈ {chance_mean_rank(len(ranks_a3)):.1f}\")\n"
      ],
      "metadata": {
        "colab": {
          "base_uri": "https://localhost:8080/"
        },
        "id": "Tta0V5iyuTgk",
        "outputId": "2b304bcf-31c5-4439-8aff-7146dd748350"
      },
      "execution_count": 16,
      "outputs": [
        {
          "output_type": "stream",
          "name": "stdout",
          "text": [
            "A2  mean rank: 165.93   | chance ≈ 192.5\n",
            "A3  mean rank: 100.14   | chance ≈ 122.0\n"
          ]
        }
      ]
    },
    {
      "cell_type": "code",
      "source": [
        "import matplotlib.pyplot as plt\n",
        "\n",
        "plt.figure(); plt.hist(ranks_a2, bins=40); plt.title(\"Analysis 2: rank distribution\"); plt.xlabel(\"rank\"); plt.ylabel(\"#sentences\"); plt.show()\n",
        "plt.figure(); plt.hist(ranks_a3, bins=40); plt.title(\"Analysis 3: rank distribution\"); plt.xlabel(\"rank\"); plt.ylabel(\"#sentences\"); plt.show()\n",
        "\n",
        "with open(\"/content/rank_results_task1_s3.txt\", \"w\") as f:\n",
        "    f.write(f\"A2 mean rank: {mean_a2:.2f} | chance ≈ {chance_mean_rank(len(ranks_a2)):.1f}\\n\")\n",
        "    f.write(f\"A3 mean rank: {mean_a3:.2f} | chance ≈ {chance_mean_rank(len(ranks_a3)):.1f}\\n\")\n",
        "print(\"Saved /content/rank_results_task1_s3.txt\")\n"
      ],
      "metadata": {
        "colab": {
          "base_uri": "https://localhost:8080/",
          "height": 945
        },
        "id": "PV1KcYvTucOr",
        "outputId": "fc67f54c-6ef5-44d9-f246-10e64221c0fa"
      },
      "execution_count": 17,
      "outputs": [
        {
          "output_type": "display_data",
          "data": {
            "text/plain": [
              "<Figure size 640x480 with 1 Axes>"
            ],
            "image/png": "[encoded data removed]"
          },
          "metadata": {}
        },
        {
          "output_type": "display_data",
          "data": {
            "text/plain": [
              "<Figure size 640x480 with 1 Axes>"
            ],
            "image/png": "[encoded data removed]"
          },
          "metadata": {}
        },
        {
          "output_type": "stream",
          "name": "stdout",
          "text": [
            "Saved /content/rank_results_task1_s3.txt\n"
          ]
        }
      ]
    },
    {
      "cell_type": "markdown",
      "source": [
        "**********************************************************************************************************************************************************************"
      ],
      "metadata": {
        "id": "2cFjsss0uQCj"
      }
    },
    {
      "cell_type": "markdown",
      "metadata": {
        "id": "5IJ9DtuLfEGP"
      },
      "source": [
        "## task 1.4:\n"
      ]
    },
    {
      "cell_type": "code",
      "source": [
        "# === Task 1 §4: Topic-wise analysis (A2 & A3) ===\n",
        "import os, pickle\n",
        "import numpy as np\n",
        "import pandas as pd\n",
        "import matplotlib.pyplot as plt\n",
        "\n",
        "from google.colab import drive\n",
        "drive.mount(\"/content/drive\")\n",
        "\n",
        "# Paths\n",
        "DATA_DIR = \"/content/drive/My Drive/Project 2: Word Embeddings and the Brain/Structured Task (sentence decoding)\"\n",
        "DECODER_PATH = \"/content/glove_decoder_exp1.pkl\"   # change if you saved elsewhere in §3\n",
        "OUT_DIR = \"/content/drive/My Drive/096222-project\"\n",
        "os.makedirs(OUT_DIR, exist_ok=True)\n"
      ],
      "metadata": {
        "colab": {
          "base_uri": "https://localhost:8080/"
        },
        "id": "fnJW9dAOycVU",
        "outputId": "31279f92-02d0-4f9b-98a0-eb308fbfa2b7"
      },
      "execution_count": 18,
      "outputs": [
        {
          "output_type": "stream",
          "name": "stdout",
          "text": [
            "Drive already mounted at /content/drive; to attempt to forcibly remount, call drive.mount(\"/content/drive\", force_remount=True).\n"
          ]
        }
      ]
    },
    {
      "cell_type": "code",
      "source": [
        "# Load Analysis 2 and 3 dicts (contain fMRI and topic labels)\n",
        "with open(os.path.join(DATA_DIR, \"EXP2.pkl\"), \"rb\") as f:\n",
        "    D2 = pickle.load(f)\n",
        "with open(os.path.join(DATA_DIR, \"EXP3.pkl\"), \"rb\") as f:\n",
        "    D3 = pickle.load(f)\n",
        "\n",
        "X_a2 = D2[\"Fmridata\"].astype(np.float32)   # (384, V)\n",
        "X_a3 = D3[\"Fmridata\"].astype(np.float32)   # (243, V)\n",
        "\n",
        "print(\"fMRI A2:\", X_a2.shape, \"| fMRI A3:\", X_a3.shape)\n"
      ],
      "metadata": {
        "colab": {
          "base_uri": "https://localhost:8080/"
        },
        "id": "Q7MwlVjfycS0",
        "outputId": "37d9d360-49cd-4787-a31d-830bc7ae6c7e"
      },
      "execution_count": 19,
      "outputs": [
        {
          "output_type": "stream",
          "name": "stdout",
          "text": [
            "fMRI A2: (384, 185866) | fMRI A3: (243, 185866)\n"
          ]
        }
      ]
    },
    {
      "cell_type": "code",
      "source": [
        "# Sentence GloVe matrices for A2 and A3\n",
        "Y_a2 = pd.read_csv(\n",
        "    os.path.join(DATA_DIR, \"vectors_384sentences.GV42B300.average.txt\"),\n",
        "    sep=r\"\\s+\", header=None\n",
        ").values.astype(np.float32)   # (384, 300)\n",
        "\n",
        "Y_a3 = pd.read_csv(\n",
        "    os.path.join(DATA_DIR, \"vectors_243sentences.GV42B300.average.txt\"),\n",
        "    sep=r\"\\s+\", header=None\n",
        ").values.astype(np.float32)   # (243, 300)\n",
        "\n",
        "assert X_a2.shape[0] == Y_a2.shape[0] == 384\n",
        "assert X_a3.shape[0] == Y_a3.shape[0] == 243\n",
        "\n",
        "print(\"GloVe A2:\", Y_a2.shape, \"| GloVe A3:\", Y_a3.shape)\n"
      ],
      "metadata": {
        "colab": {
          "base_uri": "https://localhost:8080/"
        },
        "id": "8_M8mfPwycP5",
        "outputId": "6aeb1c62-4f0a-416f-c2dd-57729b86e1d7"
      },
      "execution_count": 20,
      "outputs": [
        {
          "output_type": "stream",
          "name": "stdout",
          "text": [
            "GloVe A2: (384, 300) | GloVe A3: (243, 300)\n"
          ]
        }
      ]
    },
    {
      "cell_type": "code",
      "source": [
        "# Load the full pipeline (StandardScaler + Ridge) saved in §3\n",
        "with open(DECODER_PATH, \"rb\") as f:\n",
        "    decoder = pickle.load(f)\n",
        "\n",
        "decoder\n"
      ],
      "metadata": {
        "colab": {
          "base_uri": "https://localhost:8080/",
          "height": 202
        },
        "id": "-sO2NSIIycMc",
        "outputId": "8ca89c25-6dcc-47b2-ebce-ebc38a5a8b91"
      },
      "execution_count": 21,
      "outputs": [
        {
          "output_type": "execute_result",
          "data": {
            "text/plain": [
              "Pipeline(steps=[('standardscaler', StandardScaler()),\n",
              "                ('ridge', Ridge(alpha=10.0, random_state=42))])"
            ],
            "text/html": [
              "<style>#sk-container-id-1 {\n",
              "  /* Definition of color scheme common for light and dark mode */\n",
              "  --sklearn-color-text: #000;\n",
              "  --sklearn-color-text-muted: #666;\n",
              "  --sklearn-color-line: gray;\n",
              "  /* Definition of color scheme for unfitted estimators */\n",
              "  --sklearn-color-unfitted-level-0: #fff5e6;\n",
              "  --sklearn-color-unfitted-level-1: #f6e4d2;\n",
              "  --sklearn-color-unfitted-level-2: #ffe0b3;\n",
              "  --sklearn-color-unfitted-level-3: chocolate;\n",
              "  /* Definition of color scheme for fitted estimators */\n",
              "  --sklearn-color-fitted-level-0: #f0f8ff;\n",
              "  --sklearn-color-fitted-level-1: #d4ebff;\n",
              "  --sklearn-color-fitted-level-2: #b3dbfd;\n",
              "  --sklearn-color-fitted-level-3: cornflowerblue;\n",
              "\n",
              "  /* Specific color for light theme */\n",
              "  --sklearn-color-text-on-default-background: var(--sg-text-color, var(--theme-code-foreground, var(--jp-content-font-color1, black)));\n",
              "  --sklearn-color-background: var(--sg-background-color, var(--theme-background, var(--jp-layout-color0, white)));\n",
              "  --sklearn-color-border-box: var(--sg-text-color, var(--theme-code-foreground, var(--jp-content-font-color1, black)));\n",
              "  --sklearn-color-icon: #696969;\n",
              "\n",
              "  @media (prefers-color-scheme: dark) {\n",
              "    /* Redefinition of color scheme for dark theme */\n",
              "    --sklearn-color-text-on-default-background: var(--sg-text-color, var(--theme-code-foreground, var(--jp-content-font-color1, white)));\n",
              "    --sklearn-color-background: var(--sg-background-color, var(--theme-background, var(--jp-layout-color0, #111)));\n",
              "    --sklearn-color-border-box: var(--sg-text-color, var(--theme-code-foreground, var(--jp-content-font-color1, white)));\n",
              "    --sklearn-color-icon: #878787;\n",
              "  }\n",
              "}\n",
              "\n",
              "#sk-container-id-1 {\n",
              "  color: var(--sklearn-color-text);\n",
              "}\n",
              "\n",
              "#sk-container-id-1 pre {\n",
              "  padding: 0;\n",
              "}\n",
              "\n",
              "#sk-container-id-1 input.sk-hidden--visually {\n",
              "  border: 0;\n",
              "  clip: rect(1px 1px 1px 1px);\n",
              "  clip: rect(1px, 1px, 1px, 1px);\n",
              "  height: 1px;\n",
              "  margin: -1px;\n",
              "  overflow: hidden;\n",
              "  padding: 0;\n",
              "  position: absolute;\n",
              "  width: 1px;\n",
              "}\n",
              "\n",
              "#sk-container-id-1 div.sk-dashed-wrapped {\n",
              "  border: 1px dashed var(--sklearn-color-line);\n",
              "  margin: 0 0.4em 0.5em 0.4em;\n",
              "  box-sizing: border-box;\n",
              "  padding-bottom: 0.4em;\n",
              "  background-color: var(--sklearn-color-background);\n",
              "}\n",
              "\n",
              "#sk-container-id-1 div.sk-container {\n",
              "  /* jupyter's `normalize.less` sets `[hidden] { display: none; }`\n",
              "     but bootstrap.min.css set `[hidden] { display: none !important; }`\n",
              "     so we also need the `!important` here to be able to override the\n",
              "     default hidden behavior on the sphinx rendered scikit-learn.org.\n",
              "     See: https://github.com/scikit-learn/scikit-learn/issues/21755 */\n",
              "  display: inline-block !important;\n",
              "  position: relative;\n",
              "}\n",
              "\n",
              "#sk-container-id-1 div.sk-text-repr-fallback {\n",
              "  display: none;\n",
              "}\n",
              "\n",
              "div.sk-parallel-item,\n",
              "div.sk-serial,\n",
              "div.sk-item {\n",
              "  /* draw centered vertical line to link estimators */\n",
              "  background-image: linear-gradient(var(--sklearn-color-text-on-default-background), var(--sklearn-color-text-on-default-background));\n",
              "  background-size: 2px 100%;\n",
              "  background-repeat: no-repeat;\n",
              "  background-position: center center;\n",
              "}\n",
              "\n",
              "/* Parallel-specific style estimator block */\n",
              "\n",
              "#sk-container-id-1 div.sk-parallel-item::after {\n",
              "  content: \"\";\n",
              "  width: 100%;\n",
              "  border-bottom: 2px solid var(--sklearn-color-text-on-default-background);\n",
              "  flex-grow: 1;\n",
              "}\n",
              "\n",
              "#sk-container-id-1 div.sk-parallel {\n",
              "  display: flex;\n",
              "  align-items: stretch;\n",
              "  justify-content: center;\n",
              "  background-color: var(--sklearn-color-background);\n",
              "  position: relative;\n",
              "}\n",
              "\n",
              "#sk-container-id-1 div.sk-parallel-item {\n",
              "  display: flex;\n",
              "  flex-direction: column;\n",
              "}\n",
              "\n",
              "#sk-container-id-1 div.sk-parallel-item:first-child::after {\n",
              "  align-self: flex-end;\n",
              "  width: 50%;\n",
              "}\n",
              "\n",
              "#sk-container-id-1 div.sk-parallel-item:last-child::after {\n",
              "  align-self: flex-start;\n",
              "  width: 50%;\n",
              "}\n",
              "\n",
              "#sk-container-id-1 div.sk-parallel-item:only-child::after {\n",
              "  width: 0;\n",
              "}\n",
              "\n",
              "/* Serial-specific style estimator block */\n",
              "\n",
              "#sk-container-id-1 div.sk-serial {\n",
              "  display: flex;\n",
              "  flex-direction: column;\n",
              "  align-items: center;\n",
              "  background-color: var(--sklearn-color-background);\n",
              "  padding-right: 1em;\n",
              "  padding-left: 1em;\n",
              "}\n",
              "\n",
              "\n",
              "/* Toggleable style: style used for estimator/Pipeline/ColumnTransformer box that is\n",
              "clickable and can be expanded/collapsed.\n",
              "- Pipeline and ColumnTransformer use this feature and define the default style\n",
              "- Estimators will overwrite some part of the style using the `sk-estimator` class\n",
              "*/\n",
              "\n",
              "/* Pipeline and ColumnTransformer style (default) */\n",
              "\n",
              "#sk-container-id-1 div.sk-toggleable {\n",
              "  /* Default theme specific background. It is overwritten whether we have a\n",
              "  specific estimator or a Pipeline/ColumnTransformer */\n",
              "  background-color: var(--sklearn-color-background);\n",
              "}\n",
              "\n",
              "/* Toggleable label */\n",
              "#sk-container-id-1 label.sk-toggleable__label {\n",
              "  cursor: pointer;\n",
              "  display: flex;\n",
              "  width: 100%;\n",
              "  margin-bottom: 0;\n",
              "  padding: 0.5em;\n",
              "  box-sizing: border-box;\n",
              "  text-align: center;\n",
              "  align-items: start;\n",
              "  justify-content: space-between;\n",
              "  gap: 0.5em;\n",
              "}\n",
              "\n",
              "#sk-container-id-1 label.sk-toggleable__label .caption {\n",
              "  font-size: 0.6rem;\n",
              "  font-weight: lighter;\n",
              "  color: var(--sklearn-color-text-muted);\n",
              "}\n",
              "\n",
              "#sk-container-id-1 label.sk-toggleable__label-arrow:before {\n",
              "  /* Arrow on the left of the label */\n",
              "  content: \"▸\";\n",
              "  float: left;\n",
              "  margin-right: 0.25em;\n",
              "  color: var(--sklearn-color-icon);\n",
              "}\n",
              "\n",
              "#sk-container-id-1 label.sk-toggleable__label-arrow:hover:before {\n",
              "  color: var(--sklearn-color-text);\n",
              "}\n",
              "\n",
              "/* Toggleable content - dropdown */\n",
              "\n",
              "#sk-container-id-1 div.sk-toggleable__content {\n",
              "  max-height: 0;\n",
              "  max-width: 0;\n",
              "  overflow: hidden;\n",
              "  text-align: left;\n",
              "  /* unfitted */\n",
              "  background-color: var(--sklearn-color-unfitted-level-0);\n",
              "}\n",
              "\n",
              "#sk-container-id-1 div.sk-toggleable__content.fitted {\n",
              "  /* fitted */\n",
              "  background-color: var(--sklearn-color-fitted-level-0);\n",
              "}\n",
              "\n",
              "#sk-container-id-1 div.sk-toggleable__content pre {\n",
              "  margin: 0.2em;\n",
              "  border-radius: 0.25em;\n",
              "  color: var(--sklearn-color-text);\n",
              "  /* unfitted */\n",
              "  background-color: var(--sklearn-color-unfitted-level-0);\n",
              "}\n",
              "\n",
              "#sk-container-id-1 div.sk-toggleable__content.fitted pre {\n",
              "  /* unfitted */\n",
              "  background-color: var(--sklearn-color-fitted-level-0);\n",
              "}\n",
              "\n",
              "#sk-container-id-1 input.sk-toggleable__control:checked~div.sk-toggleable__content {\n",
              "  /* Expand drop-down */\n",
              "  max-height: 200px;\n",
              "  max-width: 100%;\n",
              "  overflow: auto;\n",
              "}\n",
              "\n",
              "#sk-container-id-1 input.sk-toggleable__control:checked~label.sk-toggleable__label-arrow:before {\n",
              "  content: \"▾\";\n",
              "}\n",
              "\n",
              "/* Pipeline/ColumnTransformer-specific style */\n",
              "\n",
              "#sk-container-id-1 div.sk-label input.sk-toggleable__control:checked~label.sk-toggleable__label {\n",
              "  color: var(--sklearn-color-text);\n",
              "  background-color: var(--sklearn-color-unfitted-level-2);\n",
              "}\n",
              "\n",
              "#sk-container-id-1 div.sk-label.fitted input.sk-toggleable__control:checked~label.sk-toggleable__label {\n",
              "  background-color: var(--sklearn-color-fitted-level-2);\n",
              "}\n",
              "\n",
              "/* Estimator-specific style */\n",
              "\n",
              "/* Colorize estimator box */\n",
              "#sk-container-id-1 div.sk-estimator input.sk-toggleable__control:checked~label.sk-toggleable__label {\n",
              "  /* unfitted */\n",
              "  background-color: var(--sklearn-color-unfitted-level-2);\n",
              "}\n",
              "\n",
              "#sk-container-id-1 div.sk-estimator.fitted input.sk-toggleable__control:checked~label.sk-toggleable__label {\n",
              "  /* fitted */\n",
              "  background-color: var(--sklearn-color-fitted-level-2);\n",
              "}\n",
              "\n",
              "#sk-container-id-1 div.sk-label label.sk-toggleable__label,\n",
              "#sk-container-id-1 div.sk-label label {\n",
              "  /* The background is the default theme color */\n",
              "  color: var(--sklearn-color-text-on-default-background);\n",
              "}\n",
              "\n",
              "/* On hover, darken the color of the background */\n",
              "#sk-container-id-1 div.sk-label:hover label.sk-toggleable__label {\n",
              "  color: var(--sklearn-color-text);\n",
              "  background-color: var(--sklearn-color-unfitted-level-2);\n",
              "}\n",
              "\n",
              "/* Label box, darken color on hover, fitted */\n",
              "#sk-container-id-1 div.sk-label.fitted:hover label.sk-toggleable__label.fitted {\n",
              "  color: var(--sklearn-color-text);\n",
              "  background-color: var(--sklearn-color-fitted-level-2);\n",
              "}\n",
              "\n",
              "/* Estimator label */\n",
              "\n",
              "#sk-container-id-1 div.sk-label label {\n",
              "  font-family: monospace;\n",
              "  font-weight: bold;\n",
              "  display: inline-block;\n",
              "  line-height: 1.2em;\n",
              "}\n",
              "\n",
              "#sk-container-id-1 div.sk-label-container {\n",
              "  text-align: center;\n",
              "}\n",
              "\n",
              "/* Estimator-specific */\n",
              "#sk-container-id-1 div.sk-estimator {\n",
              "  font-family: monospace;\n",
              "  border: 1px dotted var(--sklearn-color-border-box);\n",
              "  border-radius: 0.25em;\n",
              "  box-sizing: border-box;\n",
              "  margin-bottom: 0.5em;\n",
              "  /* unfitted */\n",
              "  background-color: var(--sklearn-color-unfitted-level-0);\n",
              "}\n",
              "\n",
              "#sk-container-id-1 div.sk-estimator.fitted {\n",
              "  /* fitted */\n",
              "  background-color: var(--sklearn-color-fitted-level-0);\n",
              "}\n",
              "\n",
              "/* on hover */\n",
              "#sk-container-id-1 div.sk-estimator:hover {\n",
              "  /* unfitted */\n",
              "  background-color: var(--sklearn-color-unfitted-level-2);\n",
              "}\n",
              "\n",
              "#sk-container-id-1 div.sk-estimator.fitted:hover {\n",
              "  /* fitted */\n",
              "  background-color: var(--sklearn-color-fitted-level-2);\n",
              "}\n",
              "\n",
              "/* Specification for estimator info (e.g. \"i\" and \"?\") */\n",
              "\n",
              "/* Common style for \"i\" and \"?\" */\n",
              "\n",
              ".sk-estimator-doc-link,\n",
              "a:link.sk-estimator-doc-link,\n",
              "a:visited.sk-estimator-doc-link {\n",
              "  float: right;\n",
              "  font-size: smaller;\n",
              "  line-height: 1em;\n",
              "  font-family: monospace;\n",
              "  background-color: var(--sklearn-color-background);\n",
              "  border-radius: 1em;\n",
              "  height: 1em;\n",
              "  width: 1em;\n",
              "  text-decoration: none !important;\n",
              "  margin-left: 0.5em;\n",
              "  text-align: center;\n",
              "  /* unfitted */\n",
              "  border: var(--sklearn-color-unfitted-level-1) 1pt solid;\n",
              "  color: var(--sklearn-color-unfitted-level-1);\n",
              "}\n",
              "\n",
              ".sk-estimator-doc-link.fitted,\n",
              "a:link.sk-estimator-doc-link.fitted,\n",
              "a:visited.sk-estimator-doc-link.fitted {\n",
              "  /* fitted */\n",
              "  border: var(--sklearn-color-fitted-level-1) 1pt solid;\n",
              "  color: var(--sklearn-color-fitted-level-1);\n",
              "}\n",
              "\n",
              "/* On hover */\n",
              "div.sk-estimator:hover .sk-estimator-doc-link:hover,\n",
              ".sk-estimator-doc-link:hover,\n",
              "div.sk-label-container:hover .sk-estimator-doc-link:hover,\n",
              ".sk-estimator-doc-link:hover {\n",
              "  /* unfitted */\n",
              "  background-color: var(--sklearn-color-unfitted-level-3);\n",
              "  color: var(--sklearn-color-background);\n",
              "  text-decoration: none;\n",
              "}\n",
              "\n",
              "div.sk-estimator.fitted:hover .sk-estimator-doc-link.fitted:hover,\n",
              ".sk-estimator-doc-link.fitted:hover,\n",
              "div.sk-label-container:hover .sk-estimator-doc-link.fitted:hover,\n",
              ".sk-estimator-doc-link.fitted:hover {\n",
              "  /* fitted */\n",
              "  background-color: var(--sklearn-color-fitted-level-3);\n",
              "  color: var(--sklearn-color-background);\n",
              "  text-decoration: none;\n",
              "}\n",
              "\n",
              "/* Span, style for the box shown on hovering the info icon */\n",
              ".sk-estimator-doc-link span {\n",
              "  display: none;\n",
              "  z-index: 9999;\n",
              "  position: relative;\n",
              "  font-weight: normal;\n",
              "  right: .2ex;\n",
              "  padding: .5ex;\n",
              "  margin: .5ex;\n",
              "  width: min-content;\n",
              "  min-width: 20ex;\n",
              "  max-width: 50ex;\n",
              "  color: var(--sklearn-color-text);\n",
              "  box-shadow: 2pt 2pt 4pt #999;\n",
              "  /* unfitted */\n",
              "  background: var(--sklearn-color-unfitted-level-0);\n",
              "  border: .5pt solid var(--sklearn-color-unfitted-level-3);\n",
              "}\n",
              "\n",
              ".sk-estimator-doc-link.fitted span {\n",
              "  /* fitted */\n",
              "  background: var(--sklearn-color-fitted-level-0);\n",
              "  border: var(--sklearn-color-fitted-level-3);\n",
              "}\n",
              "\n",
              ".sk-estimator-doc-link:hover span {\n",
              "  display: block;\n",
              "}\n",
              "\n",
              "/* \"?\"-specific style due to the `<a>` HTML tag */\n",
              "\n",
              "#sk-container-id-1 a.estimator_doc_link {\n",
              "  float: right;\n",
              "  font-size: 1rem;\n",
              "  line-height: 1em;\n",
              "  font-family: monospace;\n",
              "  background-color: var(--sklearn-color-background);\n",
              "  border-radius: 1rem;\n",
              "  height: 1rem;\n",
              "  width: 1rem;\n",
              "  text-decoration: none;\n",
              "  /* unfitted */\n",
              "  color: var(--sklearn-color-unfitted-level-1);\n",
              "  border: var(--sklearn-color-unfitted-level-1) 1pt solid;\n",
              "}\n",
              "\n",
              "#sk-container-id-1 a.estimator_doc_link.fitted {\n",
              "  /* fitted */\n",
              "  border: var(--sklearn-color-fitted-level-1) 1pt solid;\n",
              "  color: var(--sklearn-color-fitted-level-1);\n",
              "}\n",
              "\n",
              "/* On hover */\n",
              "#sk-container-id-1 a.estimator_doc_link:hover {\n",
              "  /* unfitted */\n",
              "  background-color: var(--sklearn-color-unfitted-level-3);\n",
              "  color: var(--sklearn-color-background);\n",
              "  text-decoration: none;\n",
              "}\n",
              "\n",
              "#sk-container-id-1 a.estimator_doc_link.fitted:hover {\n",
              "  /* fitted */\n",
              "  background-color: var(--sklearn-color-fitted-level-3);\n",
              "}\n",
              "</style><div id=\"sk-container-id-1\" class=\"sk-top-container\"><div class=\"sk-text-repr-fallback\"><pre>Pipeline(steps=[(&#x27;standardscaler&#x27;, StandardScaler()),\n",
              "                (&#x27;ridge&#x27;, Ridge(alpha=10.0, random_state=42))])</pre><b>In a Jupyter environment, please rerun this cell to show the HTML representation or trust the notebook. <br />On GitHub, the HTML representation is unable to render, please try loading this page with nbviewer.org.</b></div><div class=\"sk-container\" hidden><div class=\"sk-item sk-dashed-wrapped\"><div class=\"sk-label-container\"><div class=\"sk-label fitted sk-toggleable\"><input class=\"sk-toggleable__control sk-hidden--visually\" id=\"sk-estimator-id-1\" type=\"checkbox\" ><label for=\"sk-estimator-id-1\" class=\"sk-toggleable__label fitted sk-toggleable__label-arrow\"><div><div>Pipeline</div></div><div><a class=\"sk-estimator-doc-link fitted\" rel=\"noreferrer\" target=\"_blank\" href=\"https://scikit-learn.org/1.6/modules/generated/sklearn.pipeline.Pipeline.html\">?<span>Documentation for Pipeline</span></a><span class=\"sk-estimator-doc-link fitted\">i<span>Fitted</span></span></div></label><div class=\"sk-toggleable__content fitted\"><pre>Pipeline(steps=[(&#x27;standardscaler&#x27;, StandardScaler()),\n",
              "                (&#x27;ridge&#x27;, Ridge(alpha=10.0, random_state=42))])</pre></div> </div></div><div class=\"sk-serial\"><div class=\"sk-item\"><div class=\"sk-estimator fitted sk-toggleable\"><input class=\"sk-toggleable__control sk-hidden--visually\" id=\"sk-estimator-id-2\" type=\"checkbox\" ><label for=\"sk-estimator-id-2\" class=\"sk-toggleable__label fitted sk-toggleable__label-arrow\"><div><div>StandardScaler</div></div><div><a class=\"sk-estimator-doc-link fitted\" rel=\"noreferrer\" target=\"_blank\" href=\"https://scikit-learn.org/1.6/modules/generated/sklearn.preprocessing.StandardScaler.html\">?<span>Documentation for StandardScaler</span></a></div></label><div class=\"sk-toggleable__content fitted\"><pre>StandardScaler()</pre></div> </div></div><div class=\"sk-item\"><div class=\"sk-estimator fitted sk-toggleable\"><input class=\"sk-toggleable__control sk-hidden--visually\" id=\"sk-estimator-id-3\" type=\"checkbox\" ><label for=\"sk-estimator-id-3\" class=\"sk-toggleable__label fitted sk-toggleable__label-arrow\"><div><div>Ridge</div></div><div><a class=\"sk-estimator-doc-link fitted\" rel=\"noreferrer\" target=\"_blank\" href=\"https://scikit-learn.org/1.6/modules/generated/sklearn.linear_model.Ridge.html\">?<span>Documentation for Ridge</span></a></div></label><div class=\"sk-toggleable__content fitted\"><pre>Ridge(alpha=10.0, random_state=42)</pre></div> </div></div></div></div></div></div>"
            ]
          },
          "metadata": {},
          "execution_count": 21
        }
      ]
    },
    {
      "cell_type": "code",
      "source": [
        "# Predict sentence embeddings for all sentences (A2, A3)\n",
        "Yhat_a2 = decoder.predict(X_a2)   # (384, 300)\n",
        "Yhat_a3 = decoder.predict(X_a3)   # (243, 300)\n",
        "\n",
        "print(\"Predicted A2:\", Yhat_a2.shape, \"| Predicted A3:\", Yhat_a3.shape)\n"
      ],
      "metadata": {
        "colab": {
          "base_uri": "https://localhost:8080/"
        },
        "id": "gGdi0336ycJD",
        "outputId": "7eaa4c92-6df4-46b4-e49d-1c110c7964eb"
      },
      "execution_count": 22,
      "outputs": [
        {
          "output_type": "stream",
          "name": "stdout",
          "text": [
            "Predicted A2: (384, 300) | Predicted A3: (243, 300)\n"
          ]
        }
      ]
    },
    {
      "cell_type": "code",
      "source": [
        "def cosine_ranks(Yhat: np.ndarray, Ytrue: np.ndarray) -> np.ndarray:\n",
        "    \"\"\"\n",
        "    Rank = 1 + number of items with higher cosine similarity to the predicted vector\n",
        "    (global competition within the set).\n",
        "    \"\"\"\n",
        "    Yhat_n = Yhat / (np.linalg.norm(Yhat, axis=1, keepdims=True) + 1e-8)\n",
        "    Ytrue_n = Ytrue / (np.linalg.norm(Ytrue, axis=1, keepdims=True) + 1e-8)\n",
        "    S = Yhat_n @ Ytrue_n.T               # (N, N) cosine similarities\n",
        "    diag = np.diag(S)[:, None]           # similarity to its own true vector\n",
        "    ranks = 1 + (S > diag).sum(axis=1)   # lower is better\n",
        "    return ranks.astype(int)\n",
        "\n",
        "def topics_from_pkl(D):\n",
        "    \"\"\"\n",
        "    Build per-sentence topic names from the PKL structure.\n",
        "    Handles 1-based indices and flattens arrays safely.\n",
        "    \"\"\"\n",
        "    s2p = np.asarray(D[\"labelsPassageForEachSentence\"]).ravel().astype(int) - 1  # sentence->passage\n",
        "    p2t = np.asarray(D[\"labelsPassageCategory\"]).ravel().astype(int) - 1         # passage->topic id\n",
        "    topics = np.asarray(D[\"keyPassageCategory\"]).ravel().astype(str)             # topic names\n",
        "\n",
        "    assert s2p.min() >= 0 and s2p.max() < p2t.size, \"sentence->passage out of bounds\"\n",
        "    topic_ids = p2t[s2p]                              # (N_sentences,)\n",
        "    assert topic_ids.min() >= 0 and topic_ids.max() < topics.size, \"passage->topic out of bounds\"\n",
        "    topic_names = topics[topic_ids]                   # (N_sentences,)\n",
        "    return topic_ids, topic_names\n"
      ],
      "metadata": {
        "id": "Q8PED2vKycBG"
      },
      "execution_count": 23,
      "outputs": []
    },
    {
      "cell_type": "code",
      "source": [
        "# Per-sentence ranks (lower is better)\n",
        "ranks_a2 = cosine_ranks(Yhat_a2, Y_a2)\n",
        "ranks_a3 = cosine_ranks(Yhat_a3, Y_a3)\n",
        "\n",
        "chance_a2 = (len(ranks_a2) + 1) / 2\n",
        "chance_a3 = (len(ranks_a3) + 1) / 2\n",
        "\n",
        "print(f\"A2 mean rank = {ranks_a2.mean():.2f} | chance ≈ {chance_a2:.1f}\")\n",
        "print(f\"A3 mean rank = {ranks_a3.mean():.2f} | chance ≈ {chance_a3:.1f}\")\n"
      ],
      "metadata": {
        "colab": {
          "base_uri": "https://localhost:8080/"
        },
        "id": "NbSB2T7uyodY",
        "outputId": "51149901-cc6c-474c-82da-3d7b1b779a78"
      },
      "execution_count": 24,
      "outputs": [
        {
          "output_type": "stream",
          "name": "stdout",
          "text": [
            "A2 mean rank = 165.93 | chance ≈ 192.5\n",
            "A3 mean rank = 100.14 | chance ≈ 122.0\n"
          ]
        }
      ]
    },
    {
      "cell_type": "code",
      "source": [
        "# --- robust topic extraction from the PKL dict (works for EXP2/EXP3) ---\n",
        "import numpy as np\n",
        "\n",
        "def topics_from_pkl(D):\n",
        "    \"\"\"\n",
        "    Returns:\n",
        "      topic_ids_per_sentence : (N_sentences,) int array in [0..T-1]\n",
        "      topic_names_per_sentence : list[str] of length N_sentences\n",
        "    \"\"\"\n",
        "    # sentence -> passage (1-based in the PKL)  ;  passage -> topic (1-based)\n",
        "    s2p = np.asarray(D[\"labelsPassageForEachSentence\"]).ravel().astype(int) - 1\n",
        "    p2t = np.asarray(D[\"labelsPassageCategory\"]).ravel().astype(int) - 1\n",
        "\n",
        "    # keyPassageCategory is shape (1, 24) and each cell may itself be an array/list with a single string.\n",
        "    raw_topics = D[\"keyPassageCategory\"]\n",
        "    if isinstance(raw_topics, np.ndarray):\n",
        "        raw_topics = raw_topics.reshape(-1)  # flatten to (24,)\n",
        "    topic_names = []\n",
        "    for t in raw_topics:\n",
        "        # unwrap nested arrays/lists like array(['Politics']) -> 'Politics'\n",
        "        while isinstance(t, (np.ndarray, list)) and np.size(t) > 0:\n",
        "            t = np.array(t).reshape(-1)[0]\n",
        "        # decode bytes if needed\n",
        "        if isinstance(t, bytes):\n",
        "            t = t.decode(\"utf-8\", errors=\"ignore\")\n",
        "        topic_names.append(str(t))\n",
        "\n",
        "    # sanity checks\n",
        "    assert s2p.min() >= 0 and s2p.max() < p2t.size, \"sentence->passage out of bounds\"\n",
        "    assert p2t.min() >= 0 and p2t.max() < len(topic_names), \"passage->topic out of bounds\"\n",
        "\n",
        "    # per-sentence topic ids and names\n",
        "    topic_ids_per_sentence = p2t[s2p]\n",
        "    topic_names_per_sentence = [topic_names[i] for i in topic_ids_per_sentence]\n",
        "    return topic_ids_per_sentence, topic_names_per_sentence\n"
      ],
      "metadata": {
        "id": "0afNn8_n0CjC"
      },
      "execution_count": 26,
      "outputs": []
    },
    {
      "cell_type": "code",
      "source": [
        "# Topic names for each sentence\n",
        "tid2, tname2 = topics_from_pkl(D2)\n",
        "tid3, tname3 = topics_from_pkl(D3)\n",
        "\n",
        "assert len(tname2) == len(ranks_a2) == 384\n",
        "assert len(tname3) == len(ranks_a3) == 243\n",
        "\n",
        "# Build dataframes and compute per-topic mean rank\n",
        "df2 = pd.DataFrame({\"rank\": ranks_a2, \"topic\": tname2})\n",
        "df3 = pd.DataFrame({\"rank\": ranks_a3, \"topic\": tname3})\n",
        "\n",
        "mean_by_topic_a2 = df2.groupby(\"topic\")[\"rank\"].mean().sort_values()\n",
        "mean_by_topic_a3 = df3.groupby(\"topic\")[\"rank\"].mean().sort_values()\n",
        "\n",
        "best_a2,  worst_a2  = mean_by_topic_a2.index[0],  mean_by_topic_a2.index[-1]\n",
        "best_a3,  worst_a3  = mean_by_topic_a3.index[0],  mean_by_topic_a3.index[-1]\n",
        "\n",
        "print(\"A2 — mean rank by topic (lower is better):\\n\", mean_by_topic_a2, \"\\n\")\n",
        "print(\"A3 — mean rank by topic (lower is better):\\n\", mean_by_topic_a3, \"\\n\")\n",
        "\n",
        "print(f\"A2 best  : {best_a2}  ({mean_by_topic_a2.iloc[0]:.2f})\")\n",
        "print(f\"A2 worst : {worst_a2} ({mean_by_topic_a2.iloc[-1]:.2f})\")\n",
        "print(f\"A3 best  : {best_a3}  ({mean_by_topic_a3.iloc[0]:.2f})\")\n",
        "print(f\"A3 worst : {worst_a3} ({mean_by_topic_a3.iloc[-1]:.2f})\")\n"
      ],
      "metadata": {
        "colab": {
          "base_uri": "https://localhost:8080/"
        },
        "id": "_alGTWW_yqvv",
        "outputId": "7dd65f7c-fb71-4724-fac5-809004c31074"
      },
      "execution_count": 27,
      "outputs": [
        {
          "output_type": "stream",
          "name": "stdout",
          "text": [
            "A2 — mean rank by topic (lower is better):\n",
            " topic\n",
            "body_part               72.4375\n",
            "dwelling                80.5000\n",
            "furniture               92.1875\n",
            "human                   93.9375\n",
            "building_part          119.2500\n",
            "drink_non_alcoholic    137.1250\n",
            "appliance              137.3125\n",
            "tool                   158.8750\n",
            "place                  160.2500\n",
            "kitchen_utensil        167.5000\n",
            "bird                   169.6875\n",
            "weapon                 169.8125\n",
            "animal                 175.0625\n",
            "fish                   176.8125\n",
            "disaster               177.8125\n",
            "crime                  180.2500\n",
            "music                  187.6875\n",
            "clothing               193.8750\n",
            "insect                 195.1250\n",
            "vehicles_transport     195.4375\n",
            "landscape              197.8125\n",
            "fruit                  214.1875\n",
            "profession             244.1875\n",
            "vegetable              285.2500\n",
            "Name: rank, dtype: float64 \n",
            "\n",
            "A3 — mean rank by topic (lower is better):\n",
            " topic\n",
            "dreams                42.500000\n",
            "law_school            60.300000\n",
            "opera                 61.000000\n",
            "stress                66.400000\n",
            "computer_graphics     67.900000\n",
            "gambling              70.400000\n",
            "polar_bear            71.900000\n",
            "painter               74.100000\n",
            "bone_fracture         76.545455\n",
            "castle                80.100000\n",
            "taste                 92.222222\n",
            "blindness             97.300000\n",
            "rock_climbing        100.454545\n",
            "astronaut            102.800000\n",
            "infection            108.600000\n",
            "hurricane            120.900000\n",
            "tuxedo               121.500000\n",
            "skiing               125.200000\n",
            "lawn_mower           130.100000\n",
            "pharmacist           138.300000\n",
            "pyramid              140.300000\n",
            "ice_cream            143.800000\n",
            "owl                  148.500000\n",
            "beekeeping           161.545455\n",
            "Name: rank, dtype: float64 \n",
            "\n",
            "A2 best  : body_part  (72.44)\n",
            "A2 worst : vegetable (285.25)\n",
            "A3 best  : dreams  (42.50)\n",
            "A3 worst : beekeeping (161.55)\n"
          ]
        }
      ]
    },
    {
      "cell_type": "code",
      "source": [
        "plt.figure(figsize=(12,4))\n",
        "mean_by_topic_a2.plot(kind=\"bar\")\n",
        "plt.ylabel(\"Mean rank (lower is better)\")\n",
        "plt.title(\"A2: mean rank by topic\")\n",
        "plt.tight_layout()\n",
        "plt.savefig(os.path.join(OUT_DIR, \"A2_mean_rank_by_topic.png\"), dpi=150)\n",
        "plt.show()\n",
        "\n",
        "plt.figure(figsize=(12,4))\n",
        "mean_by_topic_a3.plot(kind=\"bar\")\n",
        "plt.ylabel(\"Mean rank (lower is better)\")\n",
        "plt.title(\"A3: mean rank by topic\")\n",
        "plt.tight_layout()\n",
        "plt.savefig(os.path.join(OUT_DIR, \"A3_mean_rank_by_topic.png\"), dpi=150)\n",
        "plt.show()\n"
      ],
      "metadata": {
        "colab": {
          "base_uri": "https://localhost:8080/",
          "height": 797
        },
        "id": "DHlVCDsVytFg",
        "outputId": "7df841f6-9bd0-4901-e5b1-cbcb494a342d"
      },
      "execution_count": 28,
      "outputs": [
        {
          "output_type": "display_data",
          "data": {
            "text/plain": [
              "<Figure size 1200x400 with 1 Axes>"
            ],
            "image/png": "[encoded data removed]"
          },
          "metadata": {}
        },
        {
          "output_type": "display_data",
          "data": {
            "text/plain": [
              "<Figure size 1200x400 with 1 Axes>"
            ],
            "image/png": "[encoded data removed]"
          },
          "metadata": {}
        }
      ]
    },
    {
      "cell_type": "code",
      "source": [
        "# QC: how many sentences per topic?\n",
        "print(\"A2 counts per topic:\\n\", df2[\"topic\"].value_counts().sort_index())\n",
        "print(\"\\nA3 counts per topic:\\n\", df3[\"topic\"].value_counts().sort_index())\n"
      ],
      "metadata": {
        "colab": {
          "base_uri": "https://localhost:8080/"
        },
        "id": "Q22brhuC1VyG",
        "outputId": "1551825e-bd0a-49be-cd6f-b64f65fee05f"
      },
      "execution_count": 33,
      "outputs": [
        {
          "output_type": "stream",
          "name": "stdout",
          "text": [
            "A2 counts per topic:\n",
            " topic\n",
            "animal                 16\n",
            "appliance              16\n",
            "bird                   16\n",
            "body_part              16\n",
            "building_part          16\n",
            "clothing               16\n",
            "crime                  16\n",
            "disaster               16\n",
            "drink_non_alcoholic    16\n",
            "dwelling               16\n",
            "fish                   16\n",
            "fruit                  16\n",
            "furniture              16\n",
            "human                  16\n",
            "insect                 16\n",
            "kitchen_utensil        16\n",
            "landscape              16\n",
            "music                  16\n",
            "place                  16\n",
            "profession             16\n",
            "tool                   16\n",
            "vegetable              16\n",
            "vehicles_transport     16\n",
            "weapon                 16\n",
            "Name: count, dtype: int64\n",
            "\n",
            "A3 counts per topic:\n",
            " topic\n",
            "astronaut            10\n",
            "beekeeping           11\n",
            "blindness            10\n",
            "bone_fracture        11\n",
            "castle               10\n",
            "computer_graphics    10\n",
            "dreams               10\n",
            "gambling             10\n",
            "hurricane            10\n",
            "ice_cream            10\n",
            "infection            10\n",
            "law_school           10\n",
            "lawn_mower           10\n",
            "opera                11\n",
            "owl                  10\n",
            "painter              10\n",
            "pharmacist           10\n",
            "polar_bear           10\n",
            "pyramid              10\n",
            "rock_climbing        11\n",
            "skiing               10\n",
            "stress               10\n",
            "taste                 9\n",
            "tuxedo               10\n",
            "Name: count, dtype: int64\n"
          ]
        }
      ]
    },
    {
      "cell_type": "code",
      "source": [
        "# Effect size: improvement vs chance where chance = (N + 1) / 2\n",
        "chance_a2 = (len(df2) + 1) / 2\n",
        "chance_a3 = (len(df3) + 1) / 2\n",
        "\n",
        "mean_by_topic_a2 = df2.groupby(\"topic\")[\"rank\"].mean()\n",
        "mean_by_topic_a3 = df3.groupby(\"topic\")[\"rank\"].mean()\n",
        "\n",
        "eff_a2 = (chance_a2 - mean_by_topic_a2).rename(\"improvement_vs_chance\")\n",
        "eff_a3 = (chance_a3 - mean_by_topic_a3).rename(\"improvement_vs_chance\")\n",
        "\n",
        "print(\"\\nA2 improvement vs chance (top-5):\\n\", eff_a2.sort_values(ascending=False).head(5))\n",
        "print(\"\\nA3 improvement vs chance (top-5):\\n\", eff_a3.sort_values(ascending=False).head(5))\n"
      ],
      "metadata": {
        "colab": {
          "base_uri": "https://localhost:8080/"
        },
        "id": "7QfaAjlm1aFy",
        "outputId": "a41f685c-0970-4f15-8c13-799e31bd314a"
      },
      "execution_count": 34,
      "outputs": [
        {
          "output_type": "stream",
          "name": "stdout",
          "text": [
            "\n",
            "A2 improvement vs chance (top-5):\n",
            " topic\n",
            "body_part        120.0625\n",
            "dwelling         112.0000\n",
            "furniture        100.3125\n",
            "human             98.5625\n",
            "building_part     73.2500\n",
            "Name: improvement_vs_chance, dtype: float64\n",
            "\n",
            "A3 improvement vs chance (top-5):\n",
            " topic\n",
            "dreams               79.5\n",
            "law_school           61.7\n",
            "opera                61.0\n",
            "stress               55.6\n",
            "computer_graphics    54.1\n",
            "Name: improvement_vs_chance, dtype: float64\n"
          ]
        }
      ]
    },
    {
      "cell_type": "code",
      "source": [
        "import numpy as np\n",
        "import pandas as pd\n",
        "from scipy.stats import wilcoxon\n",
        "\n",
        "def bh_fdr(pvals, alpha=0.05):\n",
        "    p = np.asarray(pvals, float)\n",
        "    m = p.size\n",
        "    order = np.argsort(p)\n",
        "    thresh = alpha * (np.arange(1, m+1) / m)\n",
        "    passed = p[order] <= thresh\n",
        "    if not np.any(passed):\n",
        "        return np.zeros_like(p, dtype=bool)\n",
        "    k = np.max(np.where(passed)[0])\n",
        "    crit = thresh[k]\n",
        "    return p <= crit\n",
        "\n",
        "def topic_wilcoxon(df, chance):\n",
        "    rows = []\n",
        "    for topic, sub in df.groupby(\"topic\"):\n",
        "        # One-sided test: is median(chance - rank) > 0 ?\n",
        "        diff = chance - sub[\"rank\"].values\n",
        "        stat, p = wilcoxon(diff, alternative=\"greater\", zero_method=\"pratt\", method=\"approx\")\n",
        "        rows.append((topic, len(sub), sub[\"rank\"].mean(), diff.mean(), p))\n",
        "    out = pd.DataFrame(rows, columns=[\"topic\", \"n\", \"mean_rank\", \"improvement_vs_chance\", \"p_wilcoxon_one_sided\"])\n",
        "    out[\"FDR_5%\"] = bh_fdr(out[\"p_wilcoxon_one_sided\"].values, alpha=0.05)\n",
        "    return out.sort_values(\"p_wilcoxon_one_sided\")\n",
        "\n",
        "res_a2 = topic_wilcoxon(df2, chance_a2)\n",
        "res_a3 = topic_wilcoxon(df3, chance_a3)\n",
        "\n",
        "print(\"A2 significant topics after FDR 5%:\\n\", res_a2[res_a2[\"FDR_5%\"]])\n",
        "print(\"\\nA3 significant topics after FDR 5%:\\n\", res_a3[res_a3[\"FDR_5%\"]])\n"
      ],
      "metadata": {
        "colab": {
          "base_uri": "https://localhost:8080/"
        },
        "id": "U0K5Rl6y1bxr",
        "outputId": "30fb75eb-db40-4318-8f46-0cca1f30b00e"
      },
      "execution_count": 35,
      "outputs": [
        {
          "output_type": "stream",
          "name": "stdout",
          "text": [
            "A2 significant topics after FDR 5%:\n",
            "             topic   n  mean_rank  improvement_vs_chance  p_wilcoxon_one_sided  \\\n",
            "3       body_part  16    72.4375               120.0625              0.000387   \n",
            "9        dwelling  16    80.5000               112.0000              0.000468   \n",
            "12      furniture  16    92.1875               100.3125              0.001892   \n",
            "13          human  16    93.9375                98.5625              0.003580   \n",
            "4   building_part  16   119.2500                73.2500              0.004863   \n",
            "\n",
            "    FDR_5%  \n",
            "3     True  \n",
            "9     True  \n",
            "12    True  \n",
            "13    True  \n",
            "4     True  \n",
            "\n",
            "A3 significant topics after FDR 5%:\n",
            "                 topic   n  mean_rank  improvement_vs_chance  \\\n",
            "6              dreams  10       42.5                   79.5   \n",
            "11         law_school  10       60.3                   61.7   \n",
            "5   computer_graphics  10       67.9                   54.1   \n",
            "13              opera  11       61.0                   61.0   \n",
            "7            gambling  10       70.4                   51.6   \n",
            "\n",
            "    p_wilcoxon_one_sided  FDR_5%  \n",
            "6               0.003455    True  \n",
            "11              0.004649    True  \n",
            "5               0.004649    True  \n",
            "13              0.004944    True  \n",
            "7               0.008302    True  \n"
          ]
        },
        {
          "output_type": "stream",
          "name": "stderr",
          "text": [
            "/usr/local/lib/python3.11/dist-packages/scipy/stats/_morestats.py:4102: UserWarning: Sample size too small for normal approximation.\n",
            "  warnings.warn(\"Sample size too small for normal approximation.\")\n"
          ]
        }
      ]
    },
    {
      "cell_type": "code",
      "source": [
        "out_txt = os.path.join(OUT_DIR, \"topic_analysis_task1_s4.txt\")\n",
        "with open(out_txt, \"w\") as f:\n",
        "    f.write(\"A2 — mean rank by topic:\\n\")\n",
        "    f.write(mean_by_topic_a2.to_string()); f.write(\"\\n\\n\")\n",
        "    f.write(\"A3 — mean rank by topic:\\n\")\n",
        "    f.write(mean_by_topic_a3.to_string()); f.write(\"\\n\\n\")\n",
        "    f.write(f\"A2 best  : {best_a2}  ({mean_by_topic_a2.iloc[0]:.2f})\\n\")\n",
        "    f.write(f\"A2 worst : {worst_a2} ({mean_by_topic_a2.iloc[-1]:.2f})\\n\")\n",
        "    f.write(f\"A3 best  : {best_a3}  ({mean_by_topic_a3.iloc[0]:.2f})\\n\")\n",
        "    f.write(f\"A3 worst : {worst_a3} ({mean_by_topic_a3.iloc[-1]:.2f})\\n\")\n",
        "\n",
        "print(\"Saved:\", out_txt)\n"
      ],
      "metadata": {
        "colab": {
          "base_uri": "https://localhost:8080/"
        },
        "id": "Nf1jQGx0yxAa",
        "outputId": "3fd94f9e-6cb9-4a8c-ce67-380fb952b65b"
      },
      "execution_count": 29,
      "outputs": [
        {
          "output_type": "stream",
          "name": "stdout",
          "text": [
            "Saved: /content/drive/My Drive/096222-project/topic_analysis_task1_s4.txt\n"
          ]
        }
      ]
    },
    {
      "cell_type": "markdown",
      "source": [
        "*******************************************************************************************************************************************************************************************************************************************************"
      ],
      "metadata": {
        "id": "rlvRKavbyYc9"
      }
    },
    {
      "cell_type": "markdown",
      "metadata": {
        "id": "ZrbPE3nzFTWU"
      },
      "source": [
        "# task 2"
      ]
    },
    {
      "cell_type": "code",
      "source": [
        "# --- Task 2: Sentence decoding on A2 (GloVe vs BERT) ---\n",
        "\n",
        "import os, pickle, time, numpy as np, pandas as pd\n",
        "from google.colab import drive\n",
        "\n",
        "import torch\n",
        "from transformers import BertTokenizer, BertModel\n",
        "\n",
        "from sklearn.pipeline import make_pipeline\n",
        "from sklearn.impute import SimpleImputer\n",
        "from sklearn.preprocessing import StandardScaler\n",
        "from sklearn.linear_model import Ridge\n",
        "from sklearn.model_selection import KFold\n",
        "from scipy.stats import wilcoxon\n",
        "\n",
        "# Reproducibility\n",
        "def set_seed(seed=42):\n",
        "    np.random.seed(seed)\n",
        "    torch.manual_seed(seed)\n",
        "set_seed(42)\n",
        "\n",
        "# Mount & paths\n",
        "drive.mount('/content/drive')\n",
        "DATA_DIR = \"/content/drive/My Drive/Project 2: Word Embeddings and the Brain/Structured Task (sentence decoding)\"\n",
        "RESULTS_DIR = \"/content/drive/My Drive/096222-project\"\n",
        "os.makedirs(RESULTS_DIR, exist_ok=True)\n",
        "\n",
        "device = torch.device(\"cuda\" if torch.cuda.is_available() else \"cpu\")\n",
        "print(\"Device:\", device)\n"
      ],
      "metadata": {
        "colab": {
          "base_uri": "https://localhost:8080/"
        },
        "id": "9muc0FuT4Gak",
        "outputId": "a5fe3608-f619-43ec-d6c1-70cc22e3dfa2"
      },
      "execution_count": 36,
      "outputs": [
        {
          "output_type": "stream",
          "name": "stdout",
          "text": [
            "Drive already mounted at /content/drive; to attempt to forcibly remount, call drive.mount(\"/content/drive\", force_remount=True).\n",
            "Device: cpu\n"
          ]
        }
      ]
    },
    {
      "cell_type": "code",
      "source": [
        "# fMRI (A2)\n",
        "with open(os.path.join(DATA_DIR, \"EXP2.pkl\"), \"rb\") as f:\n",
        "    D2 = pickle.load(f)\n",
        "X = D2[\"Fmridata\"].astype(np.float32)             # (384, 185866)\n",
        "\n",
        "# GloVe sentence embeddings (A2)\n",
        "Y_glove = pd.read_csv(\n",
        "    os.path.join(DATA_DIR, \"vectors_384sentences.GV42B300.average.txt\"),\n",
        "    sep=r\"\\s+\", header=None\n",
        ").values.astype(np.float32)                       # (384, 300)\n",
        "\n",
        "# The raw sentences for BERT\n",
        "with open(os.path.join(DATA_DIR, \"stimuli_384sentences.txt\"), \"r\", encoding=\"utf-8\") as f:\n",
        "    sentences = [ln.strip() for ln in f]\n",
        "\n",
        "# sanity\n",
        "assert X.shape[0] == 384 == Y_glove.shape[0] == len(sentences)\n",
        "print(\"A2 shapes | fMRI:\", X.shape, \"| GloVe:\", Y_glove.shape, \"| sentences:\", len(sentences))\n"
      ],
      "metadata": {
        "colab": {
          "base_uri": "https://localhost:8080/"
        },
        "id": "KNzJxzzG4GNt",
        "outputId": "b81d8838-dffa-488d-ef7b-3504b7cbdb00"
      },
      "execution_count": 37,
      "outputs": [
        {
          "output_type": "stream",
          "name": "stdout",
          "text": [
            "A2 shapes | fMRI: (384, 185866) | GloVe: (384, 300) | sentences: 384\n"
          ]
        }
      ]
    },
    {
      "cell_type": "code",
      "source": [
        "# Will save/load BERT [CLS] embeddings here\n",
        "BERT_CACHE = os.path.join(RESULTS_DIR, \"a2_bert_cls_384.npy\")\n",
        "\n",
        "def get_bert_cls(sentences, batch_size=32, model_name=\"bert-base-uncased\"):\n",
        "    tokenizer = BertTokenizer.from_pretrained(model_name)\n",
        "    model = BertModel.from_pretrained(model_name).to(device)\n",
        "    model.eval()\n",
        "\n",
        "    out = []\n",
        "    for i in range(0, len(sentences), batch_size):\n",
        "        batch = sentences[i:i+batch_size]\n",
        "        enc = tokenizer(batch, return_tensors=\"pt\", padding=True, truncation=True, max_length=128).to(device)\n",
        "        with torch.no_grad():\n",
        "            h = model(**enc).last_hidden_state[:, 0, :]   # [CLS]\n",
        "        out.append(h.cpu().numpy())\n",
        "    return np.concatenate(out, axis=0).astype(np.float32)\n",
        "\n",
        "if os.path.exists(BERT_CACHE):\n",
        "    Y_bert = np.load(BERT_CACHE)\n",
        "    print(\"Loaded cached BERT embeddings:\", Y_bert.shape)\n",
        "else:\n",
        "    Y_bert = get_bert_cls(sentences, batch_size=32)\n",
        "    np.save(BERT_CACHE, Y_bert)\n",
        "    print(\"Computed & cached BERT embeddings:\", Y_bert.shape)\n",
        "\n",
        "# sanity\n",
        "assert Y_bert.shape[0] == X.shape[0]\n"
      ],
      "metadata": {
        "colab": {
          "base_uri": "https://localhost:8080/",
          "height": 305,
          "referenced_widgets": [
            "75495c3adb0043669c4ba0df5cd19994",
            "684e0ddb60064f08953459af637e3688",
            "8d4d2f7578f94611ba85deb838ef682e",
            "142bc2463f194b638243f4a308ccf6dc",
            "9aaec98541fa4ccb8b5ec84dbde8f264",
            "820207c96cde4a8992907ee8ae7d0d5d",
            "78f2c8dd9230430fb45d003806e1739b",
            "24f6489526d342fba2f092b51318fa40",
            "896f4cf590d4486d8e98c968c40bc136",
            "8c8cd860ef9f4b02b26eeccc56ce5924",
            "09015aecff604ac083f4c4dc12bd5add",
            "9f92771f3d2241f18f4f9c47e5220f2a",
            "1bbba6ca341b431dbbef8b2a394e664e",
            "7b27ddb093414797b75e69a98b3666bc",
            "fef95a345aa141ba8e4521ddbaf1425d",
            "ec69da335102434f8a32fe4dad0835ae",
            "95f87e045a614fcf9947cb23ec11d46d",
            "65c27041723c42b6b5a79c5504aa2580",
            "b81d511531ed4a15a953d9fb448e4780",
            "978d2749da394f189aa00e33fac07ac3",
            "bf087603e5384bc990253fb81696f0f9",
            "7797e4423bf840a49e49f60f51c07fc8",
            "4049e60a95c34d61b01689ddb2645295",
            "5c0c8060759d4903991447f5977762fd",
            "fa3f301098ff407b8bc5dea70775a761",
            "88e1c0d4619b465dad52439f45671bde",
            "77e2771e901f426b8ac7457b32ed1620",
            "387f6e2ab00e4373a4f6bb1f497b9f6a",
            "736fa7f1880540028617d5ef0e271c1e",
            "e3afdcb6d17643318148eaa9d4443cec",
            "892bdc70825b4b459ecf8cf175b865a3",
            "95c5931f0a3444429c3310a25832bef7",
            "39d724e9f873465ca9ea9376306b5024",
            "f682a04a3521477385e52ce3ad547e8f",
            "f8bc492520544a51a559339b193223d1",
            "dac9249a0f4f490f920bbb4a705cabf6",
            "9e478997c327481f86278877c808fe1f",
            "5159c1f5d917470fb958d3707d0fae72",
            "72f820c93af243eb929525c2c50e16ad",
            "8c7889923e6f4f3982fc825647f92760",
            "aab56fce1280403380add66d918d74a1",
            "7be87ceb3c4a4a6b84f2c549a92b6478",
            "665aafdb3e6d4324b306d2fd421b6c02",
            "de43b4d805d34fbda1c01ab4baffbc9c",
            "3fc1711dd9e940d0a8d99f7c53f2e531",
            "c730885f732e438dbb84c5b8dd7df37b",
            "ea23c042903749039da4e26987205140",
            "490b9d915f484b779bd6488cca795c01",
            "b20cca011c4242409a307c39bc85ce00",
            "f68a2d959fa84e0084145ce1bae31cf9",
            "3348cb787d5149f89dd3b027455cb32d",
            "1bbbdbbcbc4d4cd7b0a4f90a46adef2d",
            "2961dee0ec1c49b89af3e42e4e6f76a1",
            "3307cddc97034155b7b6327862f16234",
            "f95149bcb20d478eaf04bae3c7e94b72"
          ]
        },
        "id": "sPK0kSdl4GJD",
        "outputId": "9e61200f-4a29-48c1-ffd4-cdee5356715c"
      },
      "execution_count": 38,
      "outputs": [
        {
          "output_type": "stream",
          "name": "stderr",
          "text": [
            "/usr/local/lib/python3.11/dist-packages/huggingface_hub/utils/_auth.py:94: UserWarning: \n",
            "The secret `HF_TOKEN` does not exist in your Colab secrets.\n",
            "To authenticate with the Hugging Face Hub, create a token in your settings tab (https://huggingface.co/settings/tokens), set it as secret in your Google Colab and restart your session.\n",
            "You will be able to reuse this secret in all of your notebooks.\n",
            "Please note that authentication is recommended but still optional to access public models or datasets.\n",
            "  warnings.warn(\n"
          ]
        },
        {
          "output_type": "display_data",
          "data": {
            "text/plain": [
              "tokenizer_config.json:   0%|          | 0.00/48.0 [00:00<?, ?B/s]"
            ],
            "application/vnd.jupyter.widget-view+json": {
              "version_major": 2,
              "version_minor": 0,
              "model_id": "75495c3adb0043669c4ba0df5cd19994"
            }
          },
          "metadata": {}
        },
        {
          "output_type": "display_data",
          "data": {
            "text/plain": [
              "vocab.txt:   0%|          | 0.00/232k [00:00<?, ?B/s]"
            ],
            "application/vnd.jupyter.widget-view+json": {
              "version_major": 2,
              "version_minor": 0,
              "model_id": "9f92771f3d2241f18f4f9c47e5220f2a"
            }
          },
          "metadata": {}
        },
        {
          "output_type": "display_data",
          "data": {
            "text/plain": [
              "tokenizer.json:   0%|          | 0.00/466k [00:00<?, ?B/s]"
            ],
            "application/vnd.jupyter.widget-view+json": {
              "version_major": 2,
              "version_minor": 0,
              "model_id": "4049e60a95c34d61b01689ddb2645295"
            }
          },
          "metadata": {}
        },
        {
          "output_type": "display_data",
          "data": {
            "text/plain": [
              "config.json:   0%|          | 0.00/570 [00:00<?, ?B/s]"
            ],
            "application/vnd.jupyter.widget-view+json": {
              "version_major": 2,
              "version_minor": 0,
              "model_id": "f682a04a3521477385e52ce3ad547e8f"
            }
          },
          "metadata": {}
        },
        {
          "output_type": "display_data",
          "data": {
            "text/plain": [
              "model.safetensors:   0%|          | 0.00/440M [00:00<?, ?B/s]"
            ],
            "application/vnd.jupyter.widget-view+json": {
              "version_major": 2,
              "version_minor": 0,
              "model_id": "3fc1711dd9e940d0a8d99f7c53f2e531"
            }
          },
          "metadata": {}
        },
        {
          "output_type": "stream",
          "name": "stdout",
          "text": [
            "Computed & cached BERT embeddings: (384, 768)\n"
          ]
        }
      ]
    },
    {
      "cell_type": "code",
      "source": [
        "def cosine_ranks(decoded, reference, true_indices):\n",
        "    \"\"\"\n",
        "    decoded:   (N_te, D) predicted sentence embeddings\n",
        "    reference: (N_all, D) candidate sentence embeddings (we use ALL 384 here)\n",
        "    true_indices: original indices of the test rows (into 'reference')\n",
        "\n",
        "    Returns: ranks (lower is better)\n",
        "    \"\"\"\n",
        "    # Normalize once for cosine similarity\n",
        "    ref = reference / (np.linalg.norm(reference, axis=1, keepdims=True) + 1e-8)\n",
        "    dec = decoded   / (np.linalg.norm(decoded,   axis=1, keepdims=True) + 1e-8)\n",
        "\n",
        "    sims = dec @ ref.T                              # (N_te, N_all)\n",
        "    order = np.argsort(-sims, axis=1)               # desc\n",
        "    # Rank of the true index in each row\n",
        "    ranks = np.empty(decoded.shape[0], dtype=np.int32)\n",
        "    for i, idx in enumerate(true_indices):\n",
        "        # position of the true index in the sorted list\n",
        "        ranks[i] = int(np.where(order[i] == idx)[0][0]) + 1\n",
        "    return ranks\n",
        "\n",
        "def cv_decode_mean_rank(X, Y_embed, n_splits=8, seed=42, alpha=1000.0):\n",
        "    \"\"\"\n",
        "    K-fold CV. Each fold: fit (Imputer+Scaler+Ridge) on train, predict on test,\n",
        "    compute rank against ALL 384 candidates (ALL-REF).\n",
        "\n",
        "    Returns: ranks_per_sentence (length N), mean_rank\n",
        "    \"\"\"\n",
        "    kf = KFold(n_splits=n_splits, shuffle=True, random_state=seed)\n",
        "\n",
        "    # Prepare output\n",
        "    ranks_all = np.empty(X.shape[0], dtype=np.int32)\n",
        "\n",
        "    for fold, (tr, te) in enumerate(kf.split(X), 1):\n",
        "        pipe = make_pipeline(\n",
        "            SimpleImputer(strategy=\"mean\"),\n",
        "            StandardScaler(with_mean=True, with_std=True),\n",
        "            Ridge(alpha=alpha, fit_intercept=True, random_state=seed)\n",
        "        )\n",
        "        pipe.fit(X[tr], Y_embed[tr])\n",
        "        Yhat = pipe.predict(X[te])\n",
        "\n",
        "        ranks = cosine_ranks(Yhat, Y_embed, true_indices=te)\n",
        "        ranks_all[te] = ranks\n",
        "        print(f\"Fold {fold:02d}/{n_splits}: mean rank = {ranks.mean():.1f}\")\n",
        "\n",
        "    return ranks_all, float(np.mean(ranks_all))\n"
      ],
      "metadata": {
        "id": "is0jkYkx4GEC"
      },
      "execution_count": 39,
      "outputs": []
    },
    {
      "cell_type": "code",
      "source": [
        "# Alphas you can tweak; 1e3–1e4 worked well אצלך גם ב-Task 3\n",
        "ALPHA_GLOVE = 3e3\n",
        "ALPHA_BERT  = 1e4\n",
        "\n",
        "print(\"\\nCV on GloVe …\")\n",
        "r_glove, mean_glove = cv_decode_mean_rank(X, Y_glove, n_splits=8, seed=42, alpha=ALPHA_GLOVE)\n",
        "\n",
        "print(\"\\nCV on BERT …\")\n",
        "r_bert,  mean_bert  = cv_decode_mean_rank(X, Y_bert,  n_splits=8, seed=42, alpha=ALPHA_BERT)\n",
        "\n",
        "print(\"\\nOverall mean rank — GloVe:\", mean_glove)\n",
        "print(\"Overall mean rank — BERT :\", mean_bert)\n",
        "\n",
        "# Optional: paired Wilcoxon (lower ranks are better)\n",
        "try:\n",
        "    stat, p = wilcoxon(r_bert, r_glove, alternative=\"less\")  # \"less\": BERT < GloVe ?\n",
        "    print(f\"\\nWilcoxon signed-rank (BERT < GloVe?): p={p:.4f}\")\n",
        "except Exception as e:\n",
        "    print(\"Wilcoxon failed:\", e)\n"
      ],
      "metadata": {
        "colab": {
          "base_uri": "https://localhost:8080/"
        },
        "id": "d7-mVuRI4F6o",
        "outputId": "99c90204-9e5b-46be-a98c-e793447b1ead"
      },
      "execution_count": 40,
      "outputs": [
        {
          "output_type": "stream",
          "name": "stdout",
          "text": [
            "\n",
            "CV on GloVe …\n",
            "Fold 01/8: mean rank = 71.5\n",
            "Fold 02/8: mean rank = 90.8\n",
            "Fold 03/8: mean rank = 78.0\n",
            "Fold 04/8: mean rank = 84.4\n",
            "Fold 05/8: mean rank = 57.4\n",
            "Fold 06/8: mean rank = 61.4\n",
            "Fold 07/8: mean rank = 83.8\n",
            "Fold 08/8: mean rank = 46.3\n",
            "\n",
            "CV on BERT …\n",
            "Fold 01/8: mean rank = 70.1\n",
            "Fold 02/8: mean rank = 107.8\n",
            "Fold 03/8: mean rank = 70.3\n",
            "Fold 04/8: mean rank = 65.0\n",
            "Fold 05/8: mean rank = 69.4\n",
            "Fold 06/8: mean rank = 65.6\n",
            "Fold 07/8: mean rank = 116.6\n",
            "Fold 08/8: mean rank = 59.6\n",
            "\n",
            "Overall mean rank — GloVe: 71.7109375\n",
            "Overall mean rank — BERT : 78.0625\n",
            "\n",
            "Wilcoxon signed-rank (BERT < GloVe?): p=0.8156\n"
          ]
        }
      ]
    },
    {
      "cell_type": "code",
      "source": [
        "# Save ranks\n",
        "np.save(os.path.join(RESULTS_DIR, \"task2_ranks_glove.npy\"), r_glove)\n",
        "np.save(os.path.join(RESULTS_DIR, \"task2_ranks_bert.npy\"),  r_bert)\n",
        "\n",
        "with open(os.path.join(RESULTS_DIR, \"task2_results.txt\"), \"w\") as f:\n",
        "    f.write(f\"Mean rank (GloVe): {mean_glove:.3f}\\n\")\n",
        "    f.write(f\"Mean rank (BERT): {mean_bert:.3f}\\n\")\n",
        "\n",
        "print(\"Saved to:\", RESULTS_DIR)\n",
        "\n",
        "# (optional) simple plot\n",
        "import matplotlib.pyplot as plt\n",
        "plt.figure(figsize=(10,4))\n",
        "plt.hist(r_glove, bins=40, alpha=0.6, label=f\"GloVe (mean {mean_glove:.1f})\")\n",
        "plt.hist(r_bert,  bins=40, alpha=0.6, label=f\"BERT (mean {mean_bert:.1f})\")\n",
        "plt.xlabel(\"rank (lower is better)\"); plt.ylabel(\"#sentences\")\n",
        "plt.title(\"A2 sentence decoding — rank distributions\")\n",
        "plt.legend(); plt.show()\n"
      ],
      "metadata": {
        "colab": {
          "base_uri": "https://localhost:8080/",
          "height": 428
        },
        "id": "3-NryO6i6IJJ",
        "outputId": "00bbeaf9-dab8-4474-d02f-a2a860a8c350"
      },
      "execution_count": 41,
      "outputs": [
        {
          "output_type": "stream",
          "name": "stdout",
          "text": [
            "Saved to: /content/drive/My Drive/096222-project\n"
          ]
        },
        {
          "output_type": "display_data",
          "data": {
            "text/plain": [
              "<Figure size 1000x400 with 1 Axes>"
            ],
            "image/png": "[encoded data removed]"
          },
          "metadata": {}
        }
      ]
    },
    {
      "cell_type": "markdown",
      "source": [
        "***********************************************************************************************************************************************************************"
      ],
      "metadata": {
        "id": "kQaFKSYo4IIy"
      }
    },
    {
      "cell_type": "markdown",
      "metadata": {
        "id": "Z3qe2vGoH2d2"
      },
      "source": [
        "# Task 3"
      ]
    },
    {
      "cell_type": "code",
      "source": [
        "import os, pickle, random\n",
        "import numpy as np\n",
        "import pandas as pd\n",
        "from sklearn.impute import SimpleImputer\n",
        "\n",
        "import torch\n",
        "from transformers import BertTokenizer, BertModel\n",
        "\n",
        "def set_global_seed(seed=42):\n",
        "    random.seed(seed); np.random.seed(seed); torch.manual_seed(seed)\n",
        "set_global_seed(42)\n",
        "\n",
        "# set your base path\n",
        "data_dir = \"/content/drive/My Drive/Project 2: Word Embeddings and the Brain/Structured Task (sentence decoding)\""
      ],
      "metadata": {
        "id": "JR-MwCQ2AxNy"
      },
      "execution_count": 13,
      "outputs": []
    },
    {
      "cell_type": "code",
      "source": [
        "# fMRI (384, ~185866)\n",
        "with open(os.path.join(data_dir, \"EXP2.pkl\"), \"rb\") as f:\n",
        "    exp2_data = pickle.load(f)\n",
        "fmri_data_a2 = np.asarray(exp2_data[\"Fmridata\"], dtype=np.float32)\n",
        "\n",
        "# GloVe (384, 300)\n",
        "glove_path = os.path.join(data_dir, \"vectors_384sentences.GV42B300.average.txt\")\n",
        "glove_sentence_vectors_a2 = pd.read_csv(glove_path, sep=r\"\\s+\", header=None).values.astype(np.float32)\n",
        "\n",
        "# sentences file (384 lines)\n",
        "sent_path = os.path.join(data_dir, \"stimuli_384sentences.txt\")\n",
        "with open(sent_path, \"r\", encoding=\"utf-8\") as f:\n",
        "    sentences_a2 = [ln.strip() for ln in f]\n",
        "\n",
        "# BERT embeddings (compute once on CPU; אפשר לשמור/לטעון .npy כדי לא להוריד שוב)\n",
        "tokenizer = BertTokenizer.from_pretrained(\"bert-base-uncased\")\n",
        "model = BertModel.from_pretrained(\"bert-base-uncased\").eval()\n",
        "device = \"cuda\" if torch.cuda.is_available() else \"cpu\"; model.to(device)\n",
        "\n",
        "def get_bert_embeddings(sentences, batch_size=32, max_length=128):\n",
        "    embs = []\n",
        "    for i in range(0, len(sentences), batch_size):\n",
        "        batch = sentences[i:i+batch_size]\n",
        "        inputs = tokenizer(batch, return_tensors=\"pt\", padding=True, truncation=True, max_length=max_length)\n",
        "        inputs = {k:v.to(device) for k,v in inputs.items()}\n",
        "        with torch.no_grad():\n",
        "            out = model(**inputs).last_hidden_state[:,0,:].cpu().numpy()\n",
        "        embs.append(out)\n",
        "    return np.concatenate(embs, axis=0).astype(np.float32)\n",
        "\n",
        "bert_sentence_vectors_a2 = get_bert_embeddings(sentences_a2)  # (384, 768)\n",
        "\n",
        "# impute NaNs in fMRI\n",
        "fmri_data_a2 = SimpleImputer(strategy=\"mean\").fit_transform(fmri_data_a2).astype(np.float32)\n"
      ],
      "metadata": {
        "id": "rddJ_3NOBCyp"
      },
      "execution_count": 14,
      "outputs": []
    },
    {
      "cell_type": "code",
      "source": [
        "def to_str_list_from_matlike(arr):\n",
        "    flat = np.asarray(arr).reshape(-1)\n",
        "    out = []\n",
        "    for x in flat:\n",
        "        if isinstance(x, (list, tuple, np.ndarray)): x = x[0]\n",
        "        if isinstance(x, (bytes, bytearray)): x = x.decode(\"utf-8\", errors=\"ignore\")\n",
        "        out.append(str(x).strip())\n",
        "    return out\n",
        "\n",
        "fmri_sentences = to_str_list_from_matlike(exp2_data[\"keySentences\"])\n",
        "\n",
        "def norm(s): return \" \".join(s.lower().split())\n",
        "fmri_norm  = [norm(s) for s in fmri_sentences]\n",
        "file_norm  = [norm(s) for s in sentences_a2]\n",
        "\n",
        "from collections import defaultdict, deque\n",
        "idxs = defaultdict(deque)\n",
        "for j,s in enumerate(file_norm): idxs[s].append(j)\n",
        "\n",
        "perm, missing = [], []\n",
        "for i,s in enumerate(fmri_norm):\n",
        "    if idxs[s]: perm.append(idxs[s].popleft())\n",
        "    else: missing.append((i,fmri_sentences[i]))\n",
        "\n",
        "print(f\"Matched {len(perm)}/384\")\n",
        "if missing: raise RuntimeError(f\"Unmatched: {missing[:5]}\")\n",
        "\n",
        "glove_sentence_vectors_a2 = glove_sentence_vectors_a2[perm]\n",
        "bert_sentence_vectors_a2  = bert_sentence_vectors_a2[perm]\n",
        "print(\"Embeddings aligned to fMRI row order.\")\n"
      ],
      "metadata": {
        "colab": {
          "base_uri": "https://localhost:8080/"
        },
        "id": "9uWmyJ4jBQQm",
        "outputId": "73bcd3df-f0b7-4916-d591-e08119862567"
      },
      "execution_count": 15,
      "outputs": [
        {
          "output_type": "stream",
          "name": "stdout",
          "text": [
            "Matched 384/384\n",
            "Embeddings aligned to fMRI row order.\n"
          ]
        }
      ]
    },
    {
      "cell_type": "code",
      "source": [
        "from sklearn.model_selection import KFold\n",
        "from sklearn.preprocessing import StandardScaler\n",
        "\n",
        "def make_splits(n_samples, n_splits=5, seed=42):\n",
        "    return list(KFold(n_splits=n_splits, shuffle=True, random_state=seed).split(np.arange(n_samples)))\n",
        "\n",
        "def prepare_cv_cache_for_X(\n",
        "    X_embeds, splits, alpha=10.0, scale_X=True, dtype=np.float32,\n",
        "    precompute_inverse=True, add_bias=True, penalize_bias=False,\n",
        "    pca_components=None, pca_random_state=42\n",
        "):\n",
        "    from sklearn.decomposition import PCA\n",
        "    X = X_embeds.astype(dtype, copy=False)\n",
        "    cache = []\n",
        "    for (tr,te) in splits:\n",
        "        Xtr, Xte = X[tr], X[te]\n",
        "        if scale_X:\n",
        "            xs = StandardScaler().fit(Xtr)\n",
        "            Xtr = xs.transform(Xtr).astype(dtype, copy=False)\n",
        "            Xte = xs.transform(Xte).astype(dtype, copy=False)\n",
        "        if pca_components is not None:\n",
        "            pca = PCA(n_components=pca_components, random_state=pca_random_state)\n",
        "            Xtr = pca.fit_transform(Xtr).astype(dtype, copy=False)\n",
        "            Xte = pca.transform(Xte).astype(dtype, copy=False)\n",
        "        if add_bias:\n",
        "            Xtr = np.hstack([Xtr, np.ones((Xtr.shape[0],1), dtype=dtype)])\n",
        "            Xte = np.hstack([Xte, np.ones((Xte.shape[0],1), dtype=dtype)])\n",
        "\n",
        "        Xt = Xtr.T\n",
        "        D  = Xtr.shape[1]\n",
        "        I  = np.eye(D, dtype=dtype)\n",
        "        if add_bias and not penalize_bias: I[-1,-1] = 0.0  # do not penalize intercept\n",
        "        A  = Xt @ Xtr + alpha * I\n",
        "        fold = {\"tr\": tr, \"te\": te, \"Xtr_T\": Xt, \"Xte\": Xte, \"A\": A}\n",
        "        if precompute_inverse: fold[\"A_inv\"] = np.linalg.inv(A)\n",
        "        cache.append(fold)\n",
        "    return cache\n",
        "\n",
        "def cv_r2_with_cache(Y_fmri, cache, chunk_vox=2000, scale_Y=False, dtype=np.float32,\n",
        "                     verbose=True, tot_ref=\"train\"):\n",
        "    Y = Y_fmri.astype(dtype, copy=False)\n",
        "    _, V = Y.shape\n",
        "    r2_sum = np.zeros(V, dtype=dtype); r2_cnt = np.zeros(V, np.int32)\n",
        "    for i,fold in enumerate(cache,1):\n",
        "        tr, te = fold[\"tr\"], fold[\"te\"]\n",
        "        Xtr_T, Xte = fold[\"Xtr_T\"], fold[\"Xte\"]\n",
        "        A, A_inv   = fold[\"A\"], fold.get(\"A_inv\")\n",
        "        Ytr, Yte = Y[tr], Y[te]\n",
        "        if scale_Y:\n",
        "            ym = Ytr.mean(0, keepdims=True); ys = Ytr.std(0, keepdims=True) + 1e-8\n",
        "            Ytr = (Ytr-ym)/ys; Yte = (Yte-ym)/ys\n",
        "        for s in range(0,V,chunk_vox):\n",
        "            e = min(s+chunk_vox, V)\n",
        "            B = Xtr_T @ Ytr[:,s:e]\n",
        "            W = (A_inv @ B) if A_inv is not None else np.linalg.solve(A,B)\n",
        "            Yhat = Xte @ W\n",
        "            yref = Ytr[:,s:e].mean(0, keepdims=True) if tot_ref==\"train\" else Yte[:,s:e].mean(0, keepdims=True)\n",
        "            ss_res = ((Yte[:,s:e]-Yhat)**2).sum(0)\n",
        "            ss_tot = ((Yte[:,s:e]-yref)**2).sum(0)\n",
        "            r2_sum[s:e] += 1.0 - ss_res/np.maximum(ss_tot, 1e-12)\n",
        "            r2_cnt[s:e] += 1\n",
        "        if verbose: print(f\"Observed fold {i}/{len(cache)} done.\")\n",
        "    return r2_sum/np.maximum(r2_cnt,1)\n",
        "\n",
        "def permutation_pvalues_r2_cv_fast(Y_fmri, r2_obs, cache, n_perm=100, seed=42, topk=20000,\n",
        "                                   chunk_vox=2000, scale_Y=False, dtype=np.float32,\n",
        "                                   verbose=True, progress_every=10, tot_ref=\"train\"):\n",
        "    rng = np.random.default_rng(seed)\n",
        "    Y = Y_fmri.astype(dtype, copy=False)\n",
        "    N, V = Y.shape\n",
        "    vox_sel = np.argsort(r2_obs)[-topk:] if (topk is not None and topk < V) else np.arange(V)\n",
        "    ge = np.zeros(V, np.int32)\n",
        "    import time; start=time.time()\n",
        "    for p in range(n_perm):\n",
        "        perm = rng.permutation(N)\n",
        "        for fold in cache:\n",
        "            tr, te = fold[\"tr\"], fold[\"te\"]\n",
        "            Xtr_T, Xte = fold[\"Xtr_T\"], fold[\"Xte\"]\n",
        "            A, A_inv = fold[\"A\"], fold.get(\"A_inv\")\n",
        "            Ytr, Yte = Y[perm][tr], Y[perm][te]\n",
        "            if scale_Y:\n",
        "                ym = Ytr.mean(0, keepdims=True); ys = Ytr.std(0, keepdims=True)+1e-8\n",
        "                Ytr=(Ytr-ym)/ys; Yte=(Yte-ym)/ys\n",
        "            for s in range(0, vox_sel.size, chunk_vox):\n",
        "                ch = vox_sel[s:s+chunk_vox]\n",
        "                B  = Xtr_T @ Ytr[:,ch]\n",
        "                W  = (A_inv @ B) if A_inv is not None else np.linalg.solve(A,B)\n",
        "                Yhat = Xte @ W\n",
        "                yref = Ytr[:,ch].mean(0, keepdims=True) if tot_ref==\"train\" else Yte[:,ch].mean(0, keepdims=True)\n",
        "                ss_res = ((Yte[:,ch]-Yhat)**2).sum(0)\n",
        "                ss_tot = ((Yte[:,ch]-yref)**2).sum(0)\n",
        "                r2_perm = 1.0 - ss_res/np.maximum(ss_tot, 1e-12)\n",
        "                ge[ch] += (r2_perm >= r2_obs[ch])\n",
        "        if verbose and (p+1) % max(1, n_perm//(100//progress_every or 1)) == 0:\n",
        "            el=time.time()-start; done=p+1; eta=el/done*(n_perm-done)\n",
        "            print(f\"Permutation {done}/{n_perm} | elapsed {el/60:.1f}m | ETA {eta/60:.1f}m\")\n",
        "    pvals = np.ones(V, np.float64)\n",
        "    pvals[vox_sel] = (1 + ge[vox_sel]) / (n_perm + 1)\n",
        "    return pvals\n",
        "\n",
        "def benjamini_hochberg(pvals, alpha=0.05):\n",
        "    p = np.asarray(pvals, float); V = p.size\n",
        "    order = np.argsort(p); ranked = p[order]\n",
        "    thresh = alpha * (np.arange(1, V+1) / V)\n",
        "    passed = ranked <= thresh\n",
        "    if not np.any(passed): return np.zeros_like(p, bool)\n",
        "    k = np.max(np.where(passed)[0]); crit = thresh[k]\n",
        "    return p <= crit\n",
        "\n",
        "def safe_mean(arr, mask): return float(np.mean(arr[mask])) if np.any(mask) else float(\"nan\")\n"
      ],
      "metadata": {
        "id": "JjYISB02BUJr"
      },
      "execution_count": 16,
      "outputs": []
    },
    {
      "cell_type": "code",
      "source": [
        "splits_a2 = make_splits(fmri_data_a2.shape[0], n_splits=5, seed=42)\n",
        "\n",
        "cache_glove = prepare_cv_cache_for_X(\n",
        "    glove_sentence_vectors_a2, splits_a2,\n",
        "    alpha=2782.559402207126, scale_X=True, add_bias=True, penalize_bias=False,\n",
        "    precompute_inverse=True, dtype=np.float32\n",
        ")\n",
        "cache_bert  = prepare_cv_cache_for_X(\n",
        "    bert_sentence_vectors_a2,  splits_a2,\n",
        "    alpha=10000.0,             scale_X=True, add_bias=True, penalize_bias=False,\n",
        "    precompute_inverse=True, dtype=np.float32\n",
        ")\n",
        "\n",
        "r2_glove = cv_r2_with_cache(fmri_data_a2, cache_glove, chunk_vox=2000, scale_Y=False, tot_ref=\"train\")\n",
        "r2_bert  = cv_r2_with_cache(fmri_data_a2, cache_bert,  chunk_vox=2000, scale_Y=False, tot_ref=\"train\")\n",
        "print(\"mean R² (train-ref) — GloVe:\", float(np.mean(r2_glove)))\n",
        "print(\"mean R² (train-ref) — BERT :\", float(np.mean(r2_bert)))\n"
      ],
      "metadata": {
        "colab": {
          "base_uri": "https://localhost:8080/"
        },
        "id": "MOknox0HBYBW",
        "outputId": "be4e0160-c10a-433a-f798-58917114c094"
      },
      "execution_count": 17,
      "outputs": [
        {
          "output_type": "stream",
          "name": "stdout",
          "text": [
            "Observed fold 1/5 done.\n",
            "Observed fold 2/5 done.\n",
            "Observed fold 3/5 done.\n",
            "Observed fold 4/5 done.\n",
            "Observed fold 5/5 done.\n",
            "Observed fold 1/5 done.\n",
            "Observed fold 2/5 done.\n",
            "Observed fold 3/5 done.\n",
            "Observed fold 4/5 done.\n",
            "Observed fold 5/5 done.\n",
            "mean R² (train-ref) — GloVe: 0.01322011098647425\n",
            "mean R² (train-ref) — BERT : 0.013545465527789364\n"
          ]
        }
      ]
    },
    {
      "cell_type": "code",
      "source": [
        "# smoke test\n",
        "p_glove = permutation_pvalues_r2_cv_fast(fmri_data_a2, r2_glove, cache_glove,\n",
        "    n_perm=20, seed=42, topk=5000, chunk_vox=4000, scale_Y=False, tot_ref=\"train\")\n",
        "p_bert  = permutation_pvalues_r2_cv_fast(fmri_data_a2, r2_bert,  cache_bert,\n",
        "    n_perm=20, seed=42, topk=5000, chunk_vox=4000, scale_Y=False, tot_ref=\"train\")\n",
        "\n",
        "# (אופציונלי) ריצה מלאה – שימי לב לזמן\n",
        "# p_glove = permutation_pvalues_r2_cv_fast(... n_perm=200, topk=50000, ...)\n",
        "# p_bert  = permutation_pvalues_r2_cv_fast(... n_perm=100, topk=20000, ...)\n",
        "\n",
        "sig_glove = benjamini_hochberg(p_glove, 0.05)\n",
        "sig_bert  = benjamini_hochberg(p_bert,  0.05)\n",
        "\n",
        "print(f\"[GloVe] sig@FDR5%: {int(sig_glove.sum())} | mean R²(sig): {safe_mean(r2_glove, sig_glove):.4f} | mean R²(all): {np.mean(r2_glove):.4f}\")\n",
        "print(f\"[BERT ] sig@FDR5%: {int(sig_bert.sum())}  | mean R²(sig): {safe_mean(r2_bert,  sig_bert):.4f}  | mean R²(all): {np.mean(r2_bert):.4f}\")\n",
        "\n",
        "# save (recommended)\n",
        "np.save(\"r2_glove_trainref.npy\", r2_glove); np.save(\"r2_bert_trainref.npy\", r2_bert)\n",
        "np.save(\"p_glove_trainref.npy\", p_glove);   np.save(\"p_bert_trainref.npy\",  p_bert)\n"
      ],
      "metadata": {
        "colab": {
          "base_uri": "https://localhost:8080/"
        },
        "id": "Ww7nI_KiBdCx",
        "outputId": "d929454e-a48d-43a7-c2c1-6ca8961d2dc9"
      },
      "execution_count": 18,
      "outputs": [
        {
          "output_type": "stream",
          "name": "stdout",
          "text": [
            "Permutation 2/20 | elapsed 0.3m | ETA 3.1m\n",
            "Permutation 4/20 | elapsed 0.7m | ETA 2.7m\n",
            "Permutation 6/20 | elapsed 1.0m | ETA 2.4m\n",
            "Permutation 8/20 | elapsed 1.3m | ETA 2.0m\n",
            "Permutation 10/20 | elapsed 1.7m | ETA 1.7m\n",
            "Permutation 12/20 | elapsed 2.0m | ETA 1.3m\n",
            "Permutation 14/20 | elapsed 2.3m | ETA 1.0m\n",
            "Permutation 16/20 | elapsed 2.7m | ETA 0.7m\n",
            "Permutation 18/20 | elapsed 3.0m | ETA 0.3m\n",
            "Permutation 20/20 | elapsed 3.3m | ETA 0.0m\n",
            "Permutation 2/20 | elapsed 0.3m | ETA 3.1m\n",
            "Permutation 4/20 | elapsed 0.7m | ETA 2.7m\n",
            "Permutation 6/20 | elapsed 1.0m | ETA 2.4m\n",
            "Permutation 8/20 | elapsed 1.3m | ETA 2.0m\n",
            "Permutation 10/20 | elapsed 1.7m | ETA 1.7m\n",
            "Permutation 12/20 | elapsed 2.0m | ETA 1.3m\n",
            "Permutation 14/20 | elapsed 2.3m | ETA 1.0m\n",
            "Permutation 16/20 | elapsed 2.6m | ETA 0.7m\n",
            "Permutation 18/20 | elapsed 2.9m | ETA 0.3m\n",
            "Permutation 20/20 | elapsed 3.2m | ETA 0.0m\n",
            "[GloVe] sig@FDR5%: 0 | mean R²(sig): nan | mean R²(all): 0.0132\n",
            "[BERT ] sig@FDR5%: 0  | mean R²(sig): nan  | mean R²(all): 0.0135\n"
          ]
        }
      ]
    },
    {
      "cell_type": "code",
      "source": [
        "# --- Final permutations + FDR (train-referenced R², bias not penalized) ---\n",
        "\n",
        "# 1) Run permutations\n",
        "p_glove = permutation_pvalues_r2_cv_fast(\n",
        "    fmri_data_a2, r2_glove, cache_glove,\n",
        "    n_perm=200, seed=42, topk=50000,   # אפשר להקטין/להגדיל לפי משאבים\n",
        "    chunk_vox=8000, scale_Y=False, tot_ref=\"train\",\n",
        "    dtype=np.float32, verbose=True\n",
        ")\n",
        "\n",
        "p_bert  = permutation_pvalues_r2_cv_fast(\n",
        "    fmri_data_a2, r2_bert,  cache_bert,\n",
        "    n_perm=100, seed=42, topk=20000,\n",
        "    chunk_vox=8000, scale_Y=False, tot_ref=\"train\",\n",
        "    dtype=np.float32, verbose=True\n",
        ")\n",
        "\n",
        "# 2) FDR (Benjamini–Hochberg) + summary\n",
        "def benjamini_hochberg(pvals, alpha=0.05):\n",
        "    p = np.asarray(pvals, float); V = p.size\n",
        "    order = np.argsort(p); ranked = p[order]\n",
        "    thresh = alpha * (np.arange(1, V+1) / V)\n",
        "    passed = ranked <= thresh\n",
        "    if not np.any(passed): return np.zeros_like(p, bool)\n",
        "    k = np.max(np.where(passed)[0]); crit = thresh[k]\n",
        "    return p <= crit\n",
        "\n",
        "def safe_mean(arr, mask): return float(np.mean(arr[mask])) if np.any(mask) else float(\"nan\")\n",
        "\n",
        "sig_glove = benjamini_hochberg(p_glove, 0.05)\n",
        "sig_bert  = benjamini_hochberg(p_bert,  0.05)\n",
        "\n",
        "print(f\"[GloVe] sig@FDR5%: {int(sig_glove.sum())} | mean R²(sig): {safe_mean(r2_glove, sig_glove):.4f} | mean R²(all): {np.mean(r2_glove):.4f}\")\n",
        "print(f\"[BERT ] sig@FDR5%: {int(sig_bert.sum())}  | mean R²(sig): {safe_mean(r2_bert,  sig_bert):.4f}  | mean R²(all): {np.mean(r2_bert):.4f}\")\n",
        "\n",
        "# 3) Save outputs\n",
        "np.save(\"r2_glove_trainref.npy\", r2_glove)\n",
        "np.save(\"r2_bert_trainref.npy\",  r2_bert)\n",
        "np.save(\"p_glove_trainref.npy\",  p_glove)\n",
        "np.save(\"p_bert_trainref.npy\",   p_bert)\n"
      ],
      "metadata": {
        "colab": {
          "base_uri": "https://localhost:8080/"
        },
        "id": "scQFhpZGDiwn",
        "outputId": "f30a215f-e01d-4d65-b4c4-29c5897f6920"
      },
      "execution_count": 19,
      "outputs": [
        {
          "output_type": "stream",
          "name": "stdout",
          "text": [
            "Permutation 20/200 | elapsed 4.1m | ETA 36.9m\n",
            "Permutation 40/200 | elapsed 8.2m | ETA 32.8m\n",
            "Permutation 60/200 | elapsed 12.3m | ETA 28.6m\n",
            "Permutation 80/200 | elapsed 16.3m | ETA 24.4m\n",
            "Permutation 100/200 | elapsed 20.3m | ETA 20.3m\n",
            "Permutation 120/200 | elapsed 24.4m | ETA 16.2m\n",
            "Permutation 140/200 | elapsed 28.4m | ETA 12.2m\n",
            "Permutation 160/200 | elapsed 32.4m | ETA 8.1m\n",
            "Permutation 180/200 | elapsed 36.4m | ETA 4.0m\n",
            "Permutation 200/200 | elapsed 40.4m | ETA 0.0m\n",
            "Permutation 10/100 | elapsed 1.8m | ETA 16.3m\n",
            "Permutation 20/100 | elapsed 3.6m | ETA 14.5m\n",
            "Permutation 30/100 | elapsed 5.4m | ETA 12.7m\n",
            "Permutation 40/100 | elapsed 7.2m | ETA 10.8m\n",
            "Permutation 50/100 | elapsed 9.0m | ETA 9.0m\n",
            "Permutation 60/100 | elapsed 10.8m | ETA 7.2m\n",
            "Permutation 70/100 | elapsed 12.5m | ETA 5.4m\n",
            "Permutation 80/100 | elapsed 14.3m | ETA 3.6m\n",
            "Permutation 90/100 | elapsed 16.0m | ETA 1.8m\n",
            "Permutation 100/100 | elapsed 17.8m | ETA 0.0m\n",
            "[GloVe] sig@FDR5%: 0 | mean R²(sig): nan | mean R²(all): 0.0132\n",
            "[BERT ] sig@FDR5%: 0  | mean R²(sig): nan  | mean R²(all): 0.0135\n"
          ]
        }
      ]
    },
    {
      "cell_type": "code",
      "source": [
        "import matplotlib.pyplot as plt\n",
        "plt.figure(); plt.hist(p_glove[np.isfinite(p_glove)], bins=40, range=(0,1)); plt.title(\"GloVe p-values\"); plt.show()\n",
        "plt.figure(); plt.hist(p_bert[np.isfinite(p_bert)],  bins=40, range=(0,1)); plt.title(\"BERT p-values\");  plt.show()\n",
        "\n",
        "# כמה ווקסלים מתחת ל-0.001 לא מתוקן (לתחושת \"יש סיגנל?\")\n",
        "print(\"uncorrected p<0.001 | GloVe:\", int(np.sum(p_glove < 1e-3)))\n",
        "print(\"uncorrected p<0.001 | BERT :\", int(np.sum(p_bert  < 1e-3)))\n"
      ],
      "metadata": {
        "colab": {
          "base_uri": "https://localhost:8080/",
          "height": 923
        },
        "id": "1Xw9QuOAQ8Sn",
        "outputId": "5be8e14d-2fcb-4fc4-9548-c42cbe579f59"
      },
      "execution_count": 20,
      "outputs": [
        {
          "output_type": "display_data",
          "data": {
            "text/plain": [
              "<Figure size 640x480 with 1 Axes>"
            ],
            "image/png": "[encoded data removed]"
          },
          "metadata": {}
        },
        {
          "output_type": "display_data",
          "data": {
            "text/plain": [
              "<Figure size 640x480 with 1 Axes>"
            ],
            "image/png": "[encoded data removed]"
          },
          "metadata": {}
        },
        {
          "output_type": "stream",
          "name": "stdout",
          "text": [
            "uncorrected p<0.001 | GloVe: 0\n",
            "uncorrected p<0.001 | BERT : 0\n"
          ]
        }
      ]
    }
  ],
  "metadata": {
    "accelerator": "GPU",
    "colab": {
      "gpuType": "T4",
      "provenance": []
    },
    "kernelspec": {
      "display_name": "Python 3",
      "name": "python3"
    },
    "widgets": {
      "application/vnd.jupyter.widget-state+json": {
        "75495c3adb0043669c4ba0df5cd19994": {
          "model_module": "@jupyter-widgets/controls",
          "model_name": "HBoxModel",
          "model_module_version": "1.5.0",
          "state": {
            "_dom_classes": [],
            "_model_module": "@jupyter-widgets/controls",
            "_model_module_version": "1.5.0",
            "_model_name": "HBoxModel",
            "_view_count": null,
            "_view_module": "@jupyter-widgets/controls",
            "_view_module_version": "1.5.0",
            "_view_name": "HBoxView",
            "box_style": "",
            "children": [
              "IPY_MODEL_684e0ddb60064f08953459af637e3688",
              "IPY_MODEL_8d4d2f7578f94611ba85deb838ef682e",
              "IPY_MODEL_142bc2463f194b638243f4a308ccf6dc"
            ],
            "layout": "IPY_MODEL_9aaec98541fa4ccb8b5ec84dbde8f264"
          }
        },
        "684e0ddb60064f08953459af637e3688": {
          "model_module": "@jupyter-widgets/controls",
          "model_name": "HTMLModel",
          "model_module_version": "1.5.0",
          "state": {
            "_dom_classes": [],
            "_model_module": "@jupyter-widgets/controls",
            "_model_module_version": "1.5.0",
            "_model_name": "HTMLModel",
            "_view_count": null,
            "_view_module": "@jupyter-widgets/controls",
            "_view_module_version": "1.5.0",
            "_view_name": "HTMLView",
            "description": "",
            "description_tooltip": null,
            "layout": "IPY_MODEL_820207c96cde4a8992907ee8ae7d0d5d",
            "placeholder": "​",
            "style": "IPY_MODEL_78f2c8dd9230430fb45d003806e1739b",
            "value": "tokenizer_config.json: 100%"
          }
        },
        "8d4d2f7578f94611ba85deb838ef682e": {
          "model_module": "@jupyter-widgets/controls",
          "model_name": "FloatProgressModel",
          "model_module_version": "1.5.0",
          "state": {
            "_dom_classes": [],
            "_model_module": "@jupyter-widgets/controls",
            "_model_module_version": "1.5.0",
            "_model_name": "FloatProgressModel",
            "_view_count": null,
            "_view_module": "@jupyter-widgets/controls",
            "_view_module_version": "1.5.0",
            "_view_name": "ProgressView",
            "bar_style": "success",
            "description": "",
            "description_tooltip": null,
            "layout": "IPY_MODEL_24f6489526d342fba2f092b51318fa40",
            "max": 48,
            "min": 0,
            "orientation": "horizontal",
            "style": "IPY_MODEL_896f4cf590d4486d8e98c968c40bc136",
            "value": 48
          }
        },
        "142bc2463f194b638243f4a308ccf6dc": {
          "model_module": "@jupyter-widgets/controls",
          "model_name": "HTMLModel",
          "model_module_version": "1.5.0",
          "state": {
            "_dom_classes": [],
            "_model_module": "@jupyter-widgets/controls",
            "_model_module_version": "1.5.0",
            "_model_name": "HTMLModel",
            "_view_count": null,
            "_view_module": "@jupyter-widgets/controls",
            "_view_module_version": "1.5.0",
            "_view_name": "HTMLView",
            "description": "",
            "description_tooltip": null,
            "layout": "IPY_MODEL_8c8cd860ef9f4b02b26eeccc56ce5924",
            "placeholder": "​",
            "style": "IPY_MODEL_09015aecff604ac083f4c4dc12bd5add",
            "value": " 48.0/48.0 [00:00&lt;00:00, 2.29kB/s]"
          }
        },
        "9aaec98541fa4ccb8b5ec84dbde8f264": {
          "model_module": "@jupyter-widgets/base",
          "model_name": "LayoutModel",
          "model_module_version": "1.2.0",
          "state": {
            "_model_module": "@jupyter-widgets/base",
            "_model_module_version": "1.2.0",
            "_model_name": "LayoutModel",
            "_view_count": null,
            "_view_module": "@jupyter-widgets/base",
            "_view_module_version": "1.2.0",
            "_view_name": "LayoutView",
            "align_content": null,
            "align_items": null,
            "align_self": null,
            "border": null,
            "bottom": null,
            "display": null,
            "flex": null,
            "flex_flow": null,
            "grid_area": null,
            "grid_auto_columns": null,
            "grid_auto_flow": null,
            "grid_auto_rows": null,
            "grid_column": null,
            "grid_gap": null,
            "grid_row": null,
            "grid_template_areas": null,
            "grid_template_columns": null,
            "grid_template_rows": null,
            "height": null,
            "justify_content": null,
            "justify_items": null,
            "left": null,
            "margin": null,
            "max_height": null,
            "max_width": null,
            "min_height": null,
            "min_width": null,
            "object_fit": null,
            "object_position": null,
            "order": null,
            "overflow": null,
            "overflow_x": null,
            "overflow_y": null,
            "padding": null,
            "right": null,
            "top": null,
            "visibility": null,
            "width": null
          }
        },
        "820207c96cde4a8992907ee8ae7d0d5d": {
          "model_module": "@jupyter-widgets/base",
          "model_name": "LayoutModel",
          "model_module_version": "1.2.0",
          "state": {
            "_model_module": "@jupyter-widgets/base",
            "_model_module_version": "1.2.0",
            "_model_name": "LayoutModel",
            "_view_count": null,
            "_view_module": "@jupyter-widgets/base",
            "_view_module_version": "1.2.0",
            "_view_name": "LayoutView",
            "align_content": null,
            "align_items": null,
            "align_self": null,
            "border": null,
            "bottom": null,
            "display": null,
            "flex": null,
            "flex_flow": null,
            "grid_area": null,
            "grid_auto_columns": null,
            "grid_auto_flow": null,
            "grid_auto_rows": null,
            "grid_column": null,
            "grid_gap": null,
            "grid_row": null,
            "grid_template_areas": null,
            "grid_template_columns": null,
            "grid_template_rows": null,
            "height": null,
            "justify_content": null,
            "justify_items": null,
            "left": null,
            "margin": null,
            "max_height": null,
            "max_width": null,
            "min_height": null,
            "min_width": null,
            "object_fit": null,
            "object_position": null,
            "order": null,
            "overflow": null,
            "overflow_x": null,
            "overflow_y": null,
            "padding": null,
            "right": null,
            "top": null,
            "visibility": null,
            "width": null
          }
        },
        "78f2c8dd9230430fb45d003806e1739b": {
          "model_module": "@jupyter-widgets/controls",
          "model_name": "DescriptionStyleModel",
          "model_module_version": "1.5.0",
          "state": {
            "_model_module": "@jupyter-widgets/controls",
            "_model_module_version": "1.5.0",
            "_model_name": "DescriptionStyleModel",
            "_view_count": null,
            "_view_module": "@jupyter-widgets/base",
            "_view_module_version": "1.2.0",
            "_view_name": "StyleView",
            "description_width": ""
          }
        },
        "24f6489526d342fba2f092b51318fa40": {
          "model_module": "@jupyter-widgets/base",
          "model_name": "LayoutModel",
          "model_module_version": "1.2.0",
          "state": {
            "_model_module": "@jupyter-widgets/base",
            "_model_module_version": "1.2.0",
            "_model_name": "LayoutModel",
            "_view_count": null,
            "_view_module": "@jupyter-widgets/base",
            "_view_module_version": "1.2.0",
            "_view_name": "LayoutView",
            "align_content": null,
            "align_items": null,
            "align_self": null,
            "border": null,
            "bottom": null,
            "display": null,
            "flex": null,
            "flex_flow": null,
            "grid_area": null,
            "grid_auto_columns": null,
            "grid_auto_flow": null,
            "grid_auto_rows": null,
            "grid_column": null,
            "grid_gap": null,
            "grid_row": null,
            "grid_template_areas": null,
            "grid_template_columns": null,
            "grid_template_rows": null,
            "height": null,
            "justify_content": null,
            "justify_items": null,
            "left": null,
            "margin": null,
            "max_height": null,
            "max_width": null,
            "min_height": null,
            "min_width": null,
            "object_fit": null,
            "object_position": null,
            "order": null,
            "overflow": null,
            "overflow_x": null,
            "overflow_y": null,
            "padding": null,
            "right": null,
            "top": null,
            "visibility": null,
            "width": null
          }
        },
        "896f4cf590d4486d8e98c968c40bc136": {
          "model_module": "@jupyter-widgets/controls",
          "model_name": "ProgressStyleModel",
          "model_module_version": "1.5.0",
          "state": {
            "_model_module": "@jupyter-widgets/controls",
            "_model_module_version": "1.5.0",
            "_model_name": "ProgressStyleModel",
            "_view_count": null,
            "_view_module": "@jupyter-widgets/base",
            "_view_module_version": "1.2.0",
            "_view_name": "StyleView",
            "bar_color": null,
            "description_width": ""
          }
        },
        "8c8cd860ef9f4b02b26eeccc56ce5924": {
          "model_module": "@jupyter-widgets/base",
          "model_name": "LayoutModel",
          "model_module_version": "1.2.0",
          "state": {
            "_model_module": "@jupyter-widgets/base",
            "_model_module_version": "1.2.0",
            "_model_name": "LayoutModel",
            "_view_count": null,
            "_view_module": "@jupyter-widgets/base",
            "_view_module_version": "1.2.0",
            "_view_name": "LayoutView",
            "align_content": null,
            "align_items": null,
            "align_self": null,
            "border": null,
            "bottom": null,
            "display": null,
            "flex": null,
            "flex_flow": null,
            "grid_area": null,
            "grid_auto_columns": null,
            "grid_auto_flow": null,
            "grid_auto_rows": null,
            "grid_column": null,
            "grid_gap": null,
            "grid_row": null,
            "grid_template_areas": null,
            "grid_template_columns": null,
            "grid_template_rows": null,
            "height": null,
            "justify_content": null,
            "justify_items": null,
            "left": null,
            "margin": null,
            "max_height": null,
            "max_width": null,
            "min_height": null,
            "min_width": null,
            "object_fit": null,
            "object_position": null,
            "order": null,
            "overflow": null,
            "overflow_x": null,
            "overflow_y": null,
            "padding": null,
            "right": null,
            "top": null,
            "visibility": null,
            "width": null
          }
        },
        "09015aecff604ac083f4c4dc12bd5add": {
          "model_module": "@jupyter-widgets/controls",
          "model_name": "DescriptionStyleModel",
          "model_module_version": "1.5.0",
          "state": {
            "_model_module": "@jupyter-widgets/controls",
            "_model_module_version": "1.5.0",
            "_model_name": "DescriptionStyleModel",
            "_view_count": null,
            "_view_module": "@jupyter-widgets/base",
            "_view_module_version": "1.2.0",
            "_view_name": "StyleView",
            "description_width": ""
          }
        },
        "9f92771f3d2241f18f4f9c47e5220f2a": {
          "model_module": "@jupyter-widgets/controls",
          "model_name": "HBoxModel",
          "model_module_version": "1.5.0",
          "state": {
            "_dom_classes": [],
            "_model_module": "@jupyter-widgets/controls",
            "_model_module_version": "1.5.0",
            "_model_name": "HBoxModel",
            "_view_count": null,
            "_view_module": "@jupyter-widgets/controls",
            "_view_module_version": "1.5.0",
            "_view_name": "HBoxView",
            "box_style": "",
            "children": [
              "IPY_MODEL_1bbba6ca341b431dbbef8b2a394e664e",
              "IPY_MODEL_7b27ddb093414797b75e69a98b3666bc",
              "IPY_MODEL_fef95a345aa141ba8e4521ddbaf1425d"
            ],
            "layout": "IPY_MODEL_ec69da335102434f8a32fe4dad0835ae"
          }
        },
        "1bbba6ca341b431dbbef8b2a394e664e": {
          "model_module": "@jupyter-widgets/controls",
          "model_name": "HTMLModel",
          "model_module_version": "1.5.0",
          "state": {
            "_dom_classes": [],
            "_model_module": "@jupyter-widgets/controls",
            "_model_module_version": "1.5.0",
            "_model_name": "HTMLModel",
            "_view_count": null,
            "_view_module": "@jupyter-widgets/controls",
            "_view_module_version": "1.5.0",
            "_view_name": "HTMLView",
            "description": "",
            "description_tooltip": null,
            "layout": "IPY_MODEL_95f87e045a614fcf9947cb23ec11d46d",
            "placeholder": "​",
            "style": "IPY_MODEL_65c27041723c42b6b5a79c5504aa2580",
            "value": "vocab.txt: 100%"
          }
        },
        "7b27ddb093414797b75e69a98b3666bc": {
          "model_module": "@jupyter-widgets/controls",
          "model_name": "FloatProgressModel",
          "model_module_version": "1.5.0",
          "state": {
            "_dom_classes": [],
            "_model_module": "@jupyter-widgets/controls",
            "_model_module_version": "1.5.0",
            "_model_name": "FloatProgressModel",
            "_view_count": null,
            "_view_module": "@jupyter-widgets/controls",
            "_view_module_version": "1.5.0",
            "_view_name": "ProgressView",
            "bar_style": "success",
            "description": "",
            "description_tooltip": null,
            "layout": "IPY_MODEL_b81d511531ed4a15a953d9fb448e4780",
            "max": 231508,
            "min": 0,
            "orientation": "horizontal",
            "style": "IPY_MODEL_978d2749da394f189aa00e33fac07ac3",
            "value": 231508
          }
        },
        "fef95a345aa141ba8e4521ddbaf1425d": {
          "model_module": "@jupyter-widgets/controls",
          "model_name": "HTMLModel",
          "model_module_version": "1.5.0",
          "state": {
            "_dom_classes": [],
            "_model_module": "@jupyter-widgets/controls",
            "_model_module_version": "1.5.0",
            "_model_name": "HTMLModel",
            "_view_count": null,
            "_view_module": "@jupyter-widgets/controls",
            "_view_module_version": "1.5.0",
            "_view_name": "HTMLView",
            "description": "",
            "description_tooltip": null,
            "layout": "IPY_MODEL_bf087603e5384bc990253fb81696f0f9",
            "placeholder": "​",
            "style": "IPY_MODEL_7797e4423bf840a49e49f60f51c07fc8",
            "value": " 232k/232k [00:00&lt;00:00, 2.95MB/s]"
          }
        },
        "ec69da335102434f8a32fe4dad0835ae": {
          "model_module": "@jupyter-widgets/base",
          "model_name": "LayoutModel",
          "model_module_version": "1.2.0",
          "state": {
            "_model_module": "@jupyter-widgets/base",
            "_model_module_version": "1.2.0",
            "_model_name": "LayoutModel",
            "_view_count": null,
            "_view_module": "@jupyter-widgets/base",
            "_view_module_version": "1.2.0",
            "_view_name": "LayoutView",
            "align_content": null,
            "align_items": null,
            "align_self": null,
            "border": null,
            "bottom": null,
            "display": null,
            "flex": null,
            "flex_flow": null,
            "grid_area": null,
            "grid_auto_columns": null,
            "grid_auto_flow": null,
            "grid_auto_rows": null,
            "grid_column": null,
            "grid_gap": null,
            "grid_row": null,
            "grid_template_areas": null,
            "grid_template_columns": null,
            "grid_template_rows": null,
            "height": null,
            "justify_content": null,
            "justify_items": null,
            "left": null,
            "margin": null,
            "max_height": null,
            "max_width": null,
            "min_height": null,
            "min_width": null,
            "object_fit": null,
            "object_position": null,
            "order": null,
            "overflow": null,
            "overflow_x": null,
            "overflow_y": null,
            "padding": null,
            "right": null,
            "top": null,
            "visibility": null,
            "width": null
          }
        },
        "95f87e045a614fcf9947cb23ec11d46d": {
          "model_module": "@jupyter-widgets/base",
          "model_name": "LayoutModel",
          "model_module_version": "1.2.0",
          "state": {
            "_model_module": "@jupyter-widgets/base",
            "_model_module_version": "1.2.0",
            "_model_name": "LayoutModel",
            "_view_count": null,
            "_view_module": "@jupyter-widgets/base",
            "_view_module_version": "1.2.0",
            "_view_name": "LayoutView",
            "align_content": null,
            "align_items": null,
            "align_self": null,
            "border": null,
            "bottom": null,
            "display": null,
            "flex": null,
            "flex_flow": null,
            "grid_area": null,
            "grid_auto_columns": null,
            "grid_auto_flow": null,
            "grid_auto_rows": null,
            "grid_column": null,
            "grid_gap": null,
            "grid_row": null,
            "grid_template_areas": null,
            "grid_template_columns": null,
            "grid_template_rows": null,
            "height": null,
            "justify_content": null,
            "justify_items": null,
            "left": null,
            "margin": null,
            "max_height": null,
            "max_width": null,
            "min_height": null,
            "min_width": null,
            "object_fit": null,
            "object_position": null,
            "order": null,
            "overflow": null,
            "overflow_x": null,
            "overflow_y": null,
            "padding": null,
            "right": null,
            "top": null,
            "visibility": null,
            "width": null
          }
        },
        "65c27041723c42b6b5a79c5504aa2580": {
          "model_module": "@jupyter-widgets/controls",
          "model_name": "DescriptionStyleModel",
          "model_module_version": "1.5.0",
          "state": {
            "_model_module": "@jupyter-widgets/controls",
            "_model_module_version": "1.5.0",
            "_model_name": "DescriptionStyleModel",
            "_view_count": null,
            "_view_module": "@jupyter-widgets/base",
            "_view_module_version": "1.2.0",
            "_view_name": "StyleView",
            "description_width": ""
          }
        },
        "b81d511531ed4a15a953d9fb448e4780": {
          "model_module": "@jupyter-widgets/base",
          "model_name": "LayoutModel",
          "model_module_version": "1.2.0",
          "state": {
            "_model_module": "@jupyter-widgets/base",
            "_model_module_version": "1.2.0",
            "_model_name": "LayoutModel",
            "_view_count": null,
            "_view_module": "@jupyter-widgets/base",
            "_view_module_version": "1.2.0",
            "_view_name": "LayoutView",
            "align_content": null,
            "align_items": null,
            "align_self": null,
            "border": null,
            "bottom": null,
            "display": null,
            "flex": null,
            "flex_flow": null,
            "grid_area": null,
            "grid_auto_columns": null,
            "grid_auto_flow": null,
            "grid_auto_rows": null,
            "grid_column": null,
            "grid_gap": null,
            "grid_row": null,
            "grid_template_areas": null,
            "grid_template_columns": null,
            "grid_template_rows": null,
            "height": null,
            "justify_content": null,
            "justify_items": null,
            "left": null,
            "margin": null,
            "max_height": null,
            "max_width": null,
            "min_height": null,
            "min_width": null,
            "object_fit": null,
            "object_position": null,
            "order": null,
            "overflow": null,
            "overflow_x": null,
            "overflow_y": null,
            "padding": null,
            "right": null,
            "top": null,
            "visibility": null,
            "width": null
          }
        },
        "978d2749da394f189aa00e33fac07ac3": {
          "model_module": "@jupyter-widgets/controls",
          "model_name": "ProgressStyleModel",
          "model_module_version": "1.5.0",
          "state": {
            "_model_module": "@jupyter-widgets/controls",
            "_model_module_version": "1.5.0",
            "_model_name": "ProgressStyleModel",
            "_view_count": null,
            "_view_module": "@jupyter-widgets/base",
            "_view_module_version": "1.2.0",
            "_view_name": "StyleView",
            "bar_color": null,
            "description_width": ""
          }
        },
        "bf087603e5384bc990253fb81696f0f9": {
          "model_module": "@jupyter-widgets/base",
          "model_name": "LayoutModel",
          "model_module_version": "1.2.0",
          "state": {
            "_model_module": "@jupyter-widgets/base",
            "_model_module_version": "1.2.0",
            "_model_name": "LayoutModel",
            "_view_count": null,
            "_view_module": "@jupyter-widgets/base",
            "_view_module_version": "1.2.0",
            "_view_name": "LayoutView",
            "align_content": null,
            "align_items": null,
            "align_self": null,
            "border": null,
            "bottom": null,
            "display": null,
            "flex": null,
            "flex_flow": null,
            "grid_area": null,
            "grid_auto_columns": null,
            "grid_auto_flow": null,
            "grid_auto_rows": null,
            "grid_column": null,
            "grid_gap": null,
            "grid_row": null,
            "grid_template_areas": null,
            "grid_template_columns": null,
            "grid_template_rows": null,
            "height": null,
            "justify_content": null,
            "justify_items": null,
            "left": null,
            "margin": null,
            "max_height": null,
            "max_width": null,
            "min_height": null,
            "min_width": null,
            "object_fit": null,
            "object_position": null,
            "order": null,
            "overflow": null,
            "overflow_x": null,
            "overflow_y": null,
            "padding": null,
            "right": null,
            "top": null,
            "visibility": null,
            "width": null
          }
        },
        "7797e4423bf840a49e49f60f51c07fc8": {
          "model_module": "@jupyter-widgets/controls",
          "model_name": "DescriptionStyleModel",
          "model_module_version": "1.5.0",
          "state": {
            "_model_module": "@jupyter-widgets/controls",
            "_model_module_version": "1.5.0",
            "_model_name": "DescriptionStyleModel",
            "_view_count": null,
            "_view_module": "@jupyter-widgets/base",
            "_view_module_version": "1.2.0",
            "_view_name": "StyleView",
            "description_width": ""
          }
        },
        "4049e60a95c34d61b01689ddb2645295": {
          "model_module": "@jupyter-widgets/controls",
          "model_name": "HBoxModel",
          "model_module_version": "1.5.0",
          "state": {
            "_dom_classes": [],
            "_model_module": "@jupyter-widgets/controls",
            "_model_module_version": "1.5.0",
            "_model_name": "HBoxModel",
            "_view_count": null,
            "_view_module": "@jupyter-widgets/controls",
            "_view_module_version": "1.5.0",
            "_view_name": "HBoxView",
            "box_style": "",
            "children": [
              "IPY_MODEL_5c0c8060759d4903991447f5977762fd",
              "IPY_MODEL_fa3f301098ff407b8bc5dea70775a761",
              "IPY_MODEL_88e1c0d4619b465dad52439f45671bde"
            ],
            "layout": "IPY_MODEL_77e2771e901f426b8ac7457b32ed1620"
          }
        },
        "5c0c8060759d4903991447f5977762fd": {
          "model_module": "@jupyter-widgets/controls",
          "model_name": "HTMLModel",
          "model_module_version": "1.5.0",
          "state": {
            "_dom_classes": [],
            "_model_module": "@jupyter-widgets/controls",
            "_model_module_version": "1.5.0",
            "_model_name": "HTMLModel",
            "_view_count": null,
            "_view_module": "@jupyter-widgets/controls",
            "_view_module_version": "1.5.0",
            "_view_name": "HTMLView",
            "description": "",
            "description_tooltip": null,
            "layout": "IPY_MODEL_387f6e2ab00e4373a4f6bb1f497b9f6a",
            "placeholder": "​",
            "style": "IPY_MODEL_736fa7f1880540028617d5ef0e271c1e",
            "value": "tokenizer.json: 100%"
          }
        },
        "fa3f301098ff407b8bc5dea70775a761": {
          "model_module": "@jupyter-widgets/controls",
          "model_name": "FloatProgressModel",
          "model_module_version": "1.5.0",
          "state": {
            "_dom_classes": [],
            "_model_module": "@jupyter-widgets/controls",
            "_model_module_version": "1.5.0",
            "_model_name": "FloatProgressModel",
            "_view_count": null,
            "_view_module": "@jupyter-widgets/controls",
            "_view_module_version": "1.5.0",
            "_view_name": "ProgressView",
            "bar_style": "success",
            "description": "",
            "description_tooltip": null,
            "layout": "IPY_MODEL_e3afdcb6d17643318148eaa9d4443cec",
            "max": 466062,
            "min": 0,
            "orientation": "horizontal",
            "style": "IPY_MODEL_892bdc70825b4b459ecf8cf175b865a3",
            "value": 466062
          }
        },
        "88e1c0d4619b465dad52439f45671bde": {
          "model_module": "@jupyter-widgets/controls",
          "model_name": "HTMLModel",
          "model_module_version": "1.5.0",
          "state": {
            "_dom_classes": [],
            "_model_module": "@jupyter-widgets/controls",
            "_model_module_version": "1.5.0",
            "_model_name": "HTMLModel",
            "_view_count": null,
            "_view_module": "@jupyter-widgets/controls",
            "_view_module_version": "1.5.0",
            "_view_name": "HTMLView",
            "description": "",
            "description_tooltip": null,
            "layout": "IPY_MODEL_95c5931f0a3444429c3310a25832bef7",
            "placeholder": "​",
            "style": "IPY_MODEL_39d724e9f873465ca9ea9376306b5024",
            "value": " 466k/466k [00:00&lt;00:00, 6.30MB/s]"
          }
        },
        "77e2771e901f426b8ac7457b32ed1620": {
          "model_module": "@jupyter-widgets/base",
          "model_name": "LayoutModel",
          "model_module_version": "1.2.0",
          "state": {
            "_model_module": "@jupyter-widgets/base",
            "_model_module_version": "1.2.0",
            "_model_name": "LayoutModel",
            "_view_count": null,
            "_view_module": "@jupyter-widgets/base",
            "_view_module_version": "1.2.0",
            "_view_name": "LayoutView",
            "align_content": null,
            "align_items": null,
            "align_self": null,
            "border": null,
            "bottom": null,
            "display": null,
            "flex": null,
            "flex_flow": null,
            "grid_area": null,
            "grid_auto_columns": null,
            "grid_auto_flow": null,
            "grid_auto_rows": null,
            "grid_column": null,
            "grid_gap": null,
            "grid_row": null,
            "grid_template_areas": null,
            "grid_template_columns": null,
            "grid_template_rows": null,
            "height": null,
            "justify_content": null,
            "justify_items": null,
            "left": null,
            "margin": null,
            "max_height": null,
            "max_width": null,
            "min_height": null,
            "min_width": null,
            "object_fit": null,
            "object_position": null,
            "order": null,
            "overflow": null,
            "overflow_x": null,
            "overflow_y": null,
            "padding": null,
            "right": null,
            "top": null,
            "visibility": null,
            "width": null
          }
        },
        "387f6e2ab00e4373a4f6bb1f497b9f6a": {
          "model_module": "@jupyter-widgets/base",
          "model_name": "LayoutModel",
          "model_module_version": "1.2.0",
          "state": {
            "_model_module": "@jupyter-widgets/base",
            "_model_module_version": "1.2.0",
            "_model_name": "LayoutModel",
            "_view_count": null,
            "_view_module": "@jupyter-widgets/base",
            "_view_module_version": "1.2.0",
            "_view_name": "LayoutView",
            "align_content": null,
            "align_items": null,
            "align_self": null,
            "border": null,
            "bottom": null,
            "display": null,
            "flex": null,
            "flex_flow": null,
            "grid_area": null,
            "grid_auto_columns": null,
            "grid_auto_flow": null,
            "grid_auto_rows": null,
            "grid_column": null,
            "grid_gap": null,
            "grid_row": null,
            "grid_template_areas": null,
            "grid_template_columns": null,
            "grid_template_rows": null,
            "height": null,
            "justify_content": null,
            "justify_items": null,
            "left": null,
            "margin": null,
            "max_height": null,
            "max_width": null,
            "min_height": null,
            "min_width": null,
            "object_fit": null,
            "object_position": null,
            "order": null,
            "overflow": null,
            "overflow_x": null,
            "overflow_y": null,
            "padding": null,
            "right": null,
            "top": null,
            "visibility": null,
            "width": null
          }
        },
        "736fa7f1880540028617d5ef0e271c1e": {
          "model_module": "@jupyter-widgets/controls",
          "model_name": "DescriptionStyleModel",
          "model_module_version": "1.5.0",
          "state": {
            "_model_module": "@jupyter-widgets/controls",
            "_model_module_version": "1.5.0",
            "_model_name": "DescriptionStyleModel",
            "_view_count": null,
            "_view_module": "@jupyter-widgets/base",
            "_view_module_version": "1.2.0",
            "_view_name": "StyleView",
            "description_width": ""
          }
        },
        "e3afdcb6d17643318148eaa9d4443cec": {
          "model_module": "@jupyter-widgets/base",
          "model_name": "LayoutModel",
          "model_module_version": "1.2.0",
          "state": {
            "_model_module": "@jupyter-widgets/base",
            "_model_module_version": "1.2.0",
            "_model_name": "LayoutModel",
            "_view_count": null,
            "_view_module": "@jupyter-widgets/base",
            "_view_module_version": "1.2.0",
            "_view_name": "LayoutView",
            "align_content": null,
            "align_items": null,
            "align_self": null,
            "border": null,
            "bottom": null,
            "display": null,
            "flex": null,
            "flex_flow": null,
            "grid_area": null,
            "grid_auto_columns": null,
            "grid_auto_flow": null,
            "grid_auto_rows": null,
            "grid_column": null,
            "grid_gap": null,
            "grid_row": null,
            "grid_template_areas": null,
            "grid_template_columns": null,
            "grid_template_rows": null,
            "height": null,
            "justify_content": null,
            "justify_items": null,
            "left": null,
            "margin": null,
            "max_height": null,
            "max_width": null,
            "min_height": null,
            "min_width": null,
            "object_fit": null,
            "object_position": null,
            "order": null,
            "overflow": null,
            "overflow_x": null,
            "overflow_y": null,
            "padding": null,
            "right": null,
            "top": null,
            "visibility": null,
            "width": null
          }
        },
        "892bdc70825b4b459ecf8cf175b865a3": {
          "model_module": "@jupyter-widgets/controls",
          "model_name": "ProgressStyleModel",
          "model_module_version": "1.5.0",
          "state": {
            "_model_module": "@jupyter-widgets/controls",
            "_model_module_version": "1.5.0",
            "_model_name": "ProgressStyleModel",
            "_view_count": null,
            "_view_module": "@jupyter-widgets/base",
            "_view_module_version": "1.2.0",
            "_view_name": "StyleView",
            "bar_color": null,
            "description_width": ""
          }
        },
        "95c5931f0a3444429c3310a25832bef7": {
          "model_module": "@jupyter-widgets/base",
          "model_name": "LayoutModel",
          "model_module_version": "1.2.0",
          "state": {
            "_model_module": "@jupyter-widgets/base",
            "_model_module_version": "1.2.0",
            "_model_name": "LayoutModel",
            "_view_count": null,
            "_view_module": "@jupyter-widgets/base",
            "_view_module_version": "1.2.0",
            "_view_name": "LayoutView",
            "align_content": null,
            "align_items": null,
            "align_self": null,
            "border": null,
            "bottom": null,
            "display": null,
            "flex": null,
            "flex_flow": null,
            "grid_area": null,
            "grid_auto_columns": null,
            "grid_auto_flow": null,
            "grid_auto_rows": null,
            "grid_column": null,
            "grid_gap": null,
            "grid_row": null,
            "grid_template_areas": null,
            "grid_template_columns": null,
            "grid_template_rows": null,
            "height": null,
            "justify_content": null,
            "justify_items": null,
            "left": null,
            "margin": null,
            "max_height": null,
            "max_width": null,
            "min_height": null,
            "min_width": null,
            "object_fit": null,
            "object_position": null,
            "order": null,
            "overflow": null,
            "overflow_x": null,
            "overflow_y": null,
            "padding": null,
            "right": null,
            "top": null,
            "visibility": null,
            "width": null
          }
        },
        "39d724e9f873465ca9ea9376306b5024": {
          "model_module": "@jupyter-widgets/controls",
          "model_name": "DescriptionStyleModel",
          "model_module_version": "1.5.0",
          "state": {
            "_model_module": "@jupyter-widgets/controls",
            "_model_module_version": "1.5.0",
            "_model_name": "DescriptionStyleModel",
            "_view_count": null,
            "_view_module": "@jupyter-widgets/base",
            "_view_module_version": "1.2.0",
            "_view_name": "StyleView",
            "description_width": ""
          }
        },
        "f682a04a3521477385e52ce3ad547e8f": {
          "model_module": "@jupyter-widgets/controls",
          "model_name": "HBoxModel",
          "model_module_version": "1.5.0",
          "state": {
            "_dom_classes": [],
            "_model_module": "@jupyter-widgets/controls",
            "_model_module_version": "1.5.0",
            "_model_name": "HBoxModel",
            "_view_count": null,
            "_view_module": "@jupyter-widgets/controls",
            "_view_module_version": "1.5.0",
            "_view_name": "HBoxView",
            "box_style": "",
            "children": [
              "IPY_MODEL_f8bc492520544a51a559339b193223d1",
              "IPY_MODEL_dac9249a0f4f490f920bbb4a705cabf6",
              "IPY_MODEL_9e478997c327481f86278877c808fe1f"
            ],
            "layout": "IPY_MODEL_5159c1f5d917470fb958d3707d0fae72"
          }
        },
        "f8bc492520544a51a559339b193223d1": {
          "model_module": "@jupyter-widgets/controls",
          "model_name": "HTMLModel",
          "model_module_version": "1.5.0",
          "state": {
            "_dom_classes": [],
            "_model_module": "@jupyter-widgets/controls",
            "_model_module_version": "1.5.0",
            "_model_name": "HTMLModel",
            "_view_count": null,
            "_view_module": "@jupyter-widgets/controls",
            "_view_module_version": "1.5.0",
            "_view_name": "HTMLView",
            "description": "",
            "description_tooltip": null,
            "layout": "IPY_MODEL_72f820c93af243eb929525c2c50e16ad",
            "placeholder": "​",
            "style": "IPY_MODEL_8c7889923e6f4f3982fc825647f92760",
            "value": "config.json: 100%"
          }
        },
        "dac9249a0f4f490f920bbb4a705cabf6": {
          "model_module": "@jupyter-widgets/controls",
          "model_name": "FloatProgressModel",
          "model_module_version": "1.5.0",
          "state": {
            "_dom_classes": [],
            "_model_module": "@jupyter-widgets/controls",
            "_model_module_version": "1.5.0",
            "_model_name": "FloatProgressModel",
            "_view_count": null,
            "_view_module": "@jupyter-widgets/controls",
            "_view_module_version": "1.5.0",
            "_view_name": "ProgressView",
            "bar_style": "success",
            "description": "",
            "description_tooltip": null,
            "layout": "IPY_MODEL_aab56fce1280403380add66d918d74a1",
            "max": 570,
            "min": 0,
            "orientation": "horizontal",
            "style": "IPY_MODEL_7be87ceb3c4a4a6b84f2c549a92b6478",
            "value": 570
          }
        },
        "9e478997c327481f86278877c808fe1f": {
          "model_module": "@jupyter-widgets/controls",
          "model_name": "HTMLModel",
          "model_module_version": "1.5.0",
          "state": {
            "_dom_classes": [],
            "_model_module": "@jupyter-widgets/controls",
            "_model_module_version": "1.5.0",
            "_model_name": "HTMLModel",
            "_view_count": null,
            "_view_module": "@jupyter-widgets/controls",
            "_view_module_version": "1.5.0",
            "_view_name": "HTMLView",
            "description": "",
            "description_tooltip": null,
            "layout": "IPY_MODEL_665aafdb3e6d4324b306d2fd421b6c02",
            "placeholder": "​",
            "style": "IPY_MODEL_de43b4d805d34fbda1c01ab4baffbc9c",
            "value": " 570/570 [00:00&lt;00:00, 40.4kB/s]"
          }
        },
        "5159c1f5d917470fb958d3707d0fae72": {
          "model_module": "@jupyter-widgets/base",
          "model_name": "LayoutModel",
          "model_module_version": "1.2.0",
          "state": {
            "_model_module": "@jupyter-widgets/base",
            "_model_module_version": "1.2.0",
            "_model_name": "LayoutModel",
            "_view_count": null,
            "_view_module": "@jupyter-widgets/base",
            "_view_module_version": "1.2.0",
            "_view_name": "LayoutView",
            "align_content": null,
            "align_items": null,
            "align_self": null,
            "border": null,
            "bottom": null,
            "display": null,
            "flex": null,
            "flex_flow": null,
            "grid_area": null,
            "grid_auto_columns": null,
            "grid_auto_flow": null,
            "grid_auto_rows": null,
            "grid_column": null,
            "grid_gap": null,
            "grid_row": null,
            "grid_template_areas": null,
            "grid_template_columns": null,
            "grid_template_rows": null,
            "height": null,
            "justify_content": null,
            "justify_items": null,
            "left": null,
            "margin": null,
            "max_height": null,
            "max_width": null,
            "min_height": null,
            "min_width": null,
            "object_fit": null,
            "object_position": null,
            "order": null,
            "overflow": null,
            "overflow_x": null,
            "overflow_y": null,
            "padding": null,
            "right": null,
            "top": null,
            "visibility": null,
            "width": null
          }
        },
        "72f820c93af243eb929525c2c50e16ad": {
          "model_module": "@jupyter-widgets/base",
          "model_name": "LayoutModel",
          "model_module_version": "1.2.0",
          "state": {
            "_model_module": "@jupyter-widgets/base",
            "_model_module_version": "1.2.0",
            "_model_name": "LayoutModel",
            "_view_count": null,
            "_view_module": "@jupyter-widgets/base",
            "_view_module_version": "1.2.0",
            "_view_name": "LayoutView",
            "align_content": null,
            "align_items": null,
            "align_self": null,
            "border": null,
            "bottom": null,
            "display": null,
            "flex": null,
            "flex_flow": null,
            "grid_area": null,
            "grid_auto_columns": null,
            "grid_auto_flow": null,
            "grid_auto_rows": null,
            "grid_column": null,
            "grid_gap": null,
            "grid_row": null,
            "grid_template_areas": null,
            "grid_template_columns": null,
            "grid_template_rows": null,
            "height": null,
            "justify_content": null,
            "justify_items": null,
            "left": null,
            "margin": null,
            "max_height": null,
            "max_width": null,
            "min_height": null,
            "min_width": null,
            "object_fit": null,
            "object_position": null,
            "order": null,
            "overflow": null,
            "overflow_x": null,
            "overflow_y": null,
            "padding": null,
            "right": null,
            "top": null,
            "visibility": null,
            "width": null
          }
        },
        "8c7889923e6f4f3982fc825647f92760": {
          "model_module": "@jupyter-widgets/controls",
          "model_name": "DescriptionStyleModel",
          "model_module_version": "1.5.0",
          "state": {
            "_model_module": "@jupyter-widgets/controls",
            "_model_module_version": "1.5.0",
            "_model_name": "DescriptionStyleModel",
            "_view_count": null,
            "_view_module": "@jupyter-widgets/base",
            "_view_module_version": "1.2.0",
            "_view_name": "StyleView",
            "description_width": ""
          }
        },
        "aab56fce1280403380add66d918d74a1": {
          "model_module": "@jupyter-widgets/base",
          "model_name": "LayoutModel",
          "model_module_version": "1.2.0",
          "state": {
            "_model_module": "@jupyter-widgets/base",
            "_model_module_version": "1.2.0",
            "_model_name": "LayoutModel",
            "_view_count": null,
            "_view_module": "@jupyter-widgets/base",
            "_view_module_version": "1.2.0",
            "_view_name": "LayoutView",
            "align_content": null,
            "align_items": null,
            "align_self": null,
            "border": null,
            "bottom": null,
            "display": null,
            "flex": null,
            "flex_flow": null,
            "grid_area": null,
            "grid_auto_columns": null,
            "grid_auto_flow": null,
            "grid_auto_rows": null,
            "grid_column": null,
            "grid_gap": null,
            "grid_row": null,
            "grid_template_areas": null,
            "grid_template_columns": null,
            "grid_template_rows": null,
            "height": null,
            "justify_content": null,
            "justify_items": null,
            "left": null,
            "margin": null,
            "max_height": null,
            "max_width": null,
            "min_height": null,
            "min_width": null,
            "object_fit": null,
            "object_position": null,
            "order": null,
            "overflow": null,
            "overflow_x": null,
            "overflow_y": null,
            "padding": null,
            "right": null,
            "top": null,
            "visibility": null,
            "width": null
          }
        },
        "7be87ceb3c4a4a6b84f2c549a92b6478": {
          "model_module": "@jupyter-widgets/controls",
          "model_name": "ProgressStyleModel",
          "model_module_version": "1.5.0",
          "state": {
            "_model_module": "@jupyter-widgets/controls",
            "_model_module_version": "1.5.0",
            "_model_name": "ProgressStyleModel",
            "_view_count": null,
            "_view_module": "@jupyter-widgets/base",
            "_view_module_version": "1.2.0",
            "_view_name": "StyleView",
            "bar_color": null,
            "description_width": ""
          }
        },
        "665aafdb3e6d4324b306d2fd421b6c02": {
          "model_module": "@jupyter-widgets/base",
          "model_name": "LayoutModel",
          "model_module_version": "1.2.0",
          "state": {
            "_model_module": "@jupyter-widgets/base",
            "_model_module_version": "1.2.0",
            "_model_name": "LayoutModel",
            "_view_count": null,
            "_view_module": "@jupyter-widgets/base",
            "_view_module_version": "1.2.0",
            "_view_name": "LayoutView",
            "align_content": null,
            "align_items": null,
            "align_self": null,
            "border": null,
            "bottom": null,
            "display": null,
            "flex": null,
            "flex_flow": null,
            "grid_area": null,
            "grid_auto_columns": null,
            "grid_auto_flow": null,
            "grid_auto_rows": null,
            "grid_column": null,
            "grid_gap": null,
            "grid_row": null,
            "grid_template_areas": null,
            "grid_template_columns": null,
            "grid_template_rows": null,
            "height": null,
            "justify_content": null,
            "justify_items": null,
            "left": null,
            "margin": null,
            "max_height": null,
            "max_width": null,
            "min_height": null,
            "min_width": null,
            "object_fit": null,
            "object_position": null,
            "order": null,
            "overflow": null,
            "overflow_x": null,
            "overflow_y": null,
            "padding": null,
            "right": null,
            "top": null,
            "visibility": null,
            "width": null
          }
        },
        "de43b4d805d34fbda1c01ab4baffbc9c": {
          "model_module": "@jupyter-widgets/controls",
          "model_name": "DescriptionStyleModel",
          "model_module_version": "1.5.0",
          "state": {
            "_model_module": "@jupyter-widgets/controls",
            "_model_module_version": "1.5.0",
            "_model_name": "DescriptionStyleModel",
            "_view_count": null,
            "_view_module": "@jupyter-widgets/base",
            "_view_module_version": "1.2.0",
            "_view_name": "StyleView",
            "description_width": ""
          }
        },
        "3fc1711dd9e940d0a8d99f7c53f2e531": {
          "model_module": "@jupyter-widgets/controls",
          "model_name": "HBoxModel",
          "model_module_version": "1.5.0",
          "state": {
            "_dom_classes": [],
            "_model_module": "@jupyter-widgets/controls",
            "_model_module_version": "1.5.0",
            "_model_name": "HBoxModel",
            "_view_count": null,
            "_view_module": "@jupyter-widgets/controls",
            "_view_module_version": "1.5.0",
            "_view_name": "HBoxView",
            "box_style": "",
            "children": [
              "IPY_MODEL_c730885f732e438dbb84c5b8dd7df37b",
              "IPY_MODEL_ea23c042903749039da4e26987205140",
              "IPY_MODEL_490b9d915f484b779bd6488cca795c01"
            ],
            "layout": "IPY_MODEL_b20cca011c4242409a307c39bc85ce00"
          }
        },
        "c730885f732e438dbb84c5b8dd7df37b": {
          "model_module": "@jupyter-widgets/controls",
          "model_name": "HTMLModel",
          "model_module_version": "1.5.0",
          "state": {
            "_dom_classes": [],
            "_model_module": "@jupyter-widgets/controls",
            "_model_module_version": "1.5.0",
            "_model_name": "HTMLModel",
            "_view_count": null,
            "_view_module": "@jupyter-widgets/controls",
            "_view_module_version": "1.5.0",
            "_view_name": "HTMLView",
            "description": "",
            "description_tooltip": null,
            "layout": "IPY_MODEL_f68a2d959fa84e0084145ce1bae31cf9",
            "placeholder": "​",
            "style": "IPY_MODEL_3348cb787d5149f89dd3b027455cb32d",
            "value": "model.safetensors: 100%"
          }
        },
        "ea23c042903749039da4e26987205140": {
          "model_module": "@jupyter-widgets/controls",
          "model_name": "FloatProgressModel",
          "model_module_version": "1.5.0",
          "state": {
            "_dom_classes": [],
            "_model_module": "@jupyter-widgets/controls",
            "_model_module_version": "1.5.0",
            "_model_name": "FloatProgressModel",
            "_view_count": null,
            "_view_module": "@jupyter-widgets/controls",
            "_view_module_version": "1.5.0",
            "_view_name": "ProgressView",
            "bar_style": "success",
            "description": "",
            "description_tooltip": null,
            "layout": "IPY_MODEL_1bbbdbbcbc4d4cd7b0a4f90a46adef2d",
            "max": 440449768,
            "min": 0,
            "orientation": "horizontal",
            "style": "IPY_MODEL_2961dee0ec1c49b89af3e42e4e6f76a1",
            "value": 440449768
          }
        },
        "490b9d915f484b779bd6488cca795c01": {
          "model_module": "@jupyter-widgets/controls",
          "model_name": "HTMLModel",
          "model_module_version": "1.5.0",
          "state": {
            "_dom_classes": [],
            "_model_module": "@jupyter-widgets/controls",
            "_model_module_version": "1.5.0",
            "_model_name": "HTMLModel",
            "_view_count": null,
            "_view_module": "@jupyter-widgets/controls",
            "_view_module_version": "1.5.0",
            "_view_name": "HTMLView",
            "description": "",
            "description_tooltip": null,
            "layout": "IPY_MODEL_3307cddc97034155b7b6327862f16234",
            "placeholder": "​",
            "style": "IPY_MODEL_f95149bcb20d478eaf04bae3c7e94b72",
            "value": " 440M/440M [00:28&lt;00:00, 13.8MB/s]"
          }
        },
        "b20cca011c4242409a307c39bc85ce00": {
          "model_module": "@jupyter-widgets/base",
          "model_name": "LayoutModel",
          "model_module_version": "1.2.0",
          "state": {
            "_model_module": "@jupyter-widgets/base",
            "_model_module_version": "1.2.0",
            "_model_name": "LayoutModel",
            "_view_count": null,
            "_view_module": "@jupyter-widgets/base",
            "_view_module_version": "1.2.0",
            "_view_name": "LayoutView",
            "align_content": null,
            "align_items": null,
            "align_self": null,
            "border": null,
            "bottom": null,
            "display": null,
            "flex": null,
            "flex_flow": null,
            "grid_area": null,
            "grid_auto_columns": null,
            "grid_auto_flow": null,
            "grid_auto_rows": null,
            "grid_column": null,
            "grid_gap": null,
            "grid_row": null,
            "grid_template_areas": null,
            "grid_template_columns": null,
            "grid_template_rows": null,
            "height": null,
            "justify_content": null,
            "justify_items": null,
            "left": null,
            "margin": null,
            "max_height": null,
            "max_width": null,
            "min_height": null,
            "min_width": null,
            "object_fit": null,
            "object_position": null,
            "order": null,
            "overflow": null,
            "overflow_x": null,
            "overflow_y": null,
            "padding": null,
            "right": null,
            "top": null,
            "visibility": null,
            "width": null
          }
        },
        "f68a2d959fa84e0084145ce1bae31cf9": {
          "model_module": "@jupyter-widgets/base",
          "model_name": "LayoutModel",
          "model_module_version": "1.2.0",
          "state": {
            "_model_module": "@jupyter-widgets/base",
            "_model_module_version": "1.2.0",
            "_model_name": "LayoutModel",
            "_view_count": null,
            "_view_module": "@jupyter-widgets/base",
            "_view_module_version": "1.2.0",
            "_view_name": "LayoutView",
            "align_content": null,
            "align_items": null,
            "align_self": null,
            "border": null,
            "bottom": null,
            "display": null,
            "flex": null,
            "flex_flow": null,
            "grid_area": null,
            "grid_auto_columns": null,
            "grid_auto_flow": null,
            "grid_auto_rows": null,
            "grid_column": null,
            "grid_gap": null,
            "grid_row": null,
            "grid_template_areas": null,
            "grid_template_columns": null,
            "grid_template_rows": null,
            "height": null,
            "justify_content": null,
            "justify_items": null,
            "left": null,
            "margin": null,
            "max_height": null,
            "max_width": null,
            "min_height": null,
            "min_width": null,
            "object_fit": null,
            "object_position": null,
            "order": null,
            "overflow": null,
            "overflow_x": null,
            "overflow_y": null,
            "padding": null,
            "right": null,
            "top": null,
            "visibility": null,
            "width": null
          }
        },
        "3348cb787d5149f89dd3b027455cb32d": {
          "model_module": "@jupyter-widgets/controls",
          "model_name": "DescriptionStyleModel",
          "model_module_version": "1.5.0",
          "state": {
            "_model_module": "@jupyter-widgets/controls",
            "_model_module_version": "1.5.0",
            "_model_name": "DescriptionStyleModel",
            "_view_count": null,
            "_view_module": "@jupyter-widgets/base",
            "_view_module_version": "1.2.0",
            "_view_name": "StyleView",
            "description_width": ""
          }
        },
        "1bbbdbbcbc4d4cd7b0a4f90a46adef2d": {
          "model_module": "@jupyter-widgets/base",
          "model_name": "LayoutModel",
          "model_module_version": "1.2.0",
          "state": {
            "_model_module": "@jupyter-widgets/base",
            "_model_module_version": "1.2.0",
            "_model_name": "LayoutModel",
            "_view_count": null,
            "_view_module": "@jupyter-widgets/base",
            "_view_module_version": "1.2.0",
            "_view_name": "LayoutView",
            "align_content": null,
            "align_items": null,
            "align_self": null,
            "border": null,
            "bottom": null,
            "display": null,
            "flex": null,
            "flex_flow": null,
            "grid_area": null,
            "grid_auto_columns": null,
            "grid_auto_flow": null,
            "grid_auto_rows": null,
            "grid_column": null,
            "grid_gap": null,
            "grid_row": null,
            "grid_template_areas": null,
            "grid_template_columns": null,
            "grid_template_rows": null,
            "height": null,
            "justify_content": null,
            "justify_items": null,
            "left": null,
            "margin": null,
            "max_height": null,
            "max_width": null,
            "min_height": null,
            "min_width": null,
            "object_fit": null,
            "object_position": null,
            "order": null,
            "overflow": null,
            "overflow_x": null,
            "overflow_y": null,
            "padding": null,
            "right": null,
            "top": null,
            "visibility": null,
            "width": null
          }
        },
        "2961dee0ec1c49b89af3e42e4e6f76a1": {
          "model_module": "@jupyter-widgets/controls",
          "model_name": "ProgressStyleModel",
          "model_module_version": "1.5.0",
          "state": {
            "_model_module": "@jupyter-widgets/controls",
            "_model_module_version": "1.5.0",
            "_model_name": "ProgressStyleModel",
            "_view_count": null,
            "_view_module": "@jupyter-widgets/base",
            "_view_module_version": "1.2.0",
            "_view_name": "StyleView",
            "bar_color": null,
            "description_width": ""
          }
        },
        "3307cddc97034155b7b6327862f16234": {
          "model_module": "@jupyter-widgets/base",
          "model_name": "LayoutModel",
          "model_module_version": "1.2.0",
          "state": {
            "_model_module": "@jupyter-widgets/base",
            "_model_module_version": "1.2.0",
            "_model_name": "LayoutModel",
            "_view_count": null,
            "_view_module": "@jupyter-widgets/base",
            "_view_module_version": "1.2.0",
            "_view_name": "LayoutView",
            "align_content": null,
            "align_items": null,
            "align_self": null,
            "border": null,
            "bottom": null,
            "display": null,
            "flex": null,
            "flex_flow": null,
            "grid_area": null,
            "grid_auto_columns": null,
            "grid_auto_flow": null,
            "grid_auto_rows": null,
            "grid_column": null,
            "grid_gap": null,
            "grid_row": null,
            "grid_template_areas": null,
            "grid_template_columns": null,
            "grid_template_rows": null,
            "height": null,
            "justify_content": null,
            "justify_items": null,
            "left": null,
            "margin": null,
            "max_height": null,
            "max_width": null,
            "min_height": null,
            "min_width": null,
            "object_fit": null,
            "object_position": null,
            "order": null,
            "overflow": null,
            "overflow_x": null,
            "overflow_y": null,
            "padding": null,
            "right": null,
            "top": null,
            "visibility": null,
            "width": null
          }
        },
        "f95149bcb20d478eaf04bae3c7e94b72": {
          "model_module": "@jupyter-widgets/controls",
          "model_name": "DescriptionStyleModel",
          "model_module_version": "1.5.0",
          "state": {
            "_model_module": "@jupyter-widgets/controls",
            "_model_module_version": "1.5.0",
            "_model_name": "DescriptionStyleModel",
            "_view_count": null,
            "_view_module": "@jupyter-widgets/base",
            "_view_module_version": "1.2.0",
            "_view_name": "StyleView",
            "description_width": ""
          }
        }
      }
    }
  },
  "nbformat": 4,
  "nbformat_minor": 0
}